{
 "cells": [
  {
   "cell_type": "markdown",
   "metadata": {},
   "source": [
    "![Conexão com o Azure Data Lake](https://raw.githubusercontent.com/joaovilar/Python/main/Python_Jupyter/from_container_to_database.png)"
   ]
  },
  {
   "cell_type": "markdown",
   "metadata": {},
   "source": [
    "Conexão com o Azure Data Lake"
   ]
  },
  {
   "cell_type": "code",
   "execution_count": 81,
   "metadata": {},
   "outputs": [],
   "source": [
    "#importando as bibliotecas\n",
    "from azure.storage.blob import BlobServiceClient\n",
    "from io import BytesIO\n",
    "import pandas as pd\n",
    "from datetime import datetime"
   ]
  },
  {
   "cell_type": "code",
   "execution_count": 82,
   "metadata": {},
   "outputs": [],
   "source": [
    "\n",
    "# Chaves de acesso e URL do serviço\n",
    "account_key = \"SuaChaveDeAcesso\"\n",
    "account_name = \"NomeDaConta\"\n",
    "container_name = \"NomeDoContainer\"\n",
    "\n",
    "# Cria o cliente de serviço\n",
    "blob_service_client = BlobServiceClient(account_url=f\"https://{account_name}.blob.core.windows.net\", credential=account_key)\n"
   ]
  },
  {
   "cell_type": "markdown",
   "metadata": {},
   "source": [
    "Leitura dos arquivos csv no container"
   ]
  },
  {
   "cell_type": "code",
   "execution_count": 83,
   "metadata": {},
   "outputs": [],
   "source": [
    "\n",
    "def ler_arquivo_csv(account_key, account_name, container_name, blob_name, delimitador=';'):\n",
    "    # Cria o cliente de serviço\n",
    "    blob_service_client = BlobServiceClient(account_url=f\"https://{account_name}.blob.core.windows.net\", credential=account_key)\n",
    "\n",
    "    # Obtém referência para o blob\n",
    "    blob_client = blob_service_client.get_blob_client(container=container_name, blob=blob_name)\n",
    "\n",
    "    # Lê o conteúdo do blob (arquivo CSV) em um DataFrame\n",
    "    blob_content = blob_client.download_blob().readall()\n",
    "    # Especifique o delimitador usando o parâmetro sep\n",
    "    df = pd.read_csv(BytesIO(blob_content), sep=delimitador)\n",
    "\n",
    "    return df\n",
    "\n",
    "# Exemplo de uso\n",
    "df_stores = ler_arquivo_csv(account_key, account_name, container_name, \"CSV/Stores.csv\")\n",
    "df_product = ler_arquivo_csv(account_key, account_name, container_name, \"CSV/Product.csv\")\n",
    "df_channel = ler_arquivo_csv(account_key, account_name, container_name, \"CSV/Channel.csv\")\n",
    "df_product_category = ler_arquivo_csv(account_key, account_name, container_name, \"CSV/ProductCategory.csv\")\n",
    "df_geography = ler_arquivo_csv(account_key, account_name, container_name, \"CSV/Geography.csv\")\n"
   ]
  },
  {
   "cell_type": "code",
   "execution_count": 84,
   "metadata": {},
   "outputs": [],
   "source": [
    "# Adicionar a coluna do dia corrente\n",
    "df_stores['CurrentDateTime'] = datetime.now().strftime('%d/%m/%Y %H:%M:%S')\n",
    "df_product['CurrentDateTime'] = datetime.now().strftime('%d/%m/%Y %H:%M:%S')\n",
    "df_channel['CurrentDateTime'] = datetime.now().strftime('%d/%m/%Y %H:%M:%S')\n",
    "df_product_category['CurrentDateTime'] = datetime.now().strftime('%d/%m/%Y %H:%M:%S')\n",
    "df_geography['CurrentDateTime'] = datetime.now().strftime('%d/%m/%Y %H:%M:%S')"
   ]
  },
  {
   "cell_type": "code",
   "execution_count": 85,
   "metadata": {},
   "outputs": [
    {
     "data": {
      "text/html": [
       "<div>\n",
       "<style scoped>\n",
       "    .dataframe tbody tr th:only-of-type {\n",
       "        vertical-align: middle;\n",
       "    }\n",
       "\n",
       "    .dataframe tbody tr th {\n",
       "        vertical-align: top;\n",
       "    }\n",
       "\n",
       "    .dataframe thead th {\n",
       "        text-align: right;\n",
       "    }\n",
       "</style>\n",
       "<table border=\"1\" class=\"dataframe\">\n",
       "  <thead>\n",
       "    <tr style=\"text-align: right;\">\n",
       "      <th></th>\n",
       "      <th>StoreKey</th>\n",
       "      <th>GeographyKey</th>\n",
       "      <th>StoreType</th>\n",
       "      <th>StoreName</th>\n",
       "      <th>Status</th>\n",
       "      <th>CloseReason</th>\n",
       "      <th>EmployeeCount</th>\n",
       "      <th>SellingAreaSize</th>\n",
       "      <th>CurrentDateTime</th>\n",
       "    </tr>\n",
       "  </thead>\n",
       "  <tbody>\n",
       "    <tr>\n",
       "      <th>0</th>\n",
       "      <td>1</td>\n",
       "      <td>693</td>\n",
       "      <td>Store</td>\n",
       "      <td>Contoso Seattle No.1 Store</td>\n",
       "      <td>On</td>\n",
       "      <td>Not informed</td>\n",
       "      <td>17.0</td>\n",
       "      <td>462</td>\n",
       "      <td>04/01/2024 09:16:19</td>\n",
       "    </tr>\n",
       "    <tr>\n",
       "      <th>1</th>\n",
       "      <td>2</td>\n",
       "      <td>693</td>\n",
       "      <td>Store</td>\n",
       "      <td>Contoso Seattle No.2 Store</td>\n",
       "      <td>On</td>\n",
       "      <td>Not informed</td>\n",
       "      <td>25.0</td>\n",
       "      <td>700</td>\n",
       "      <td>04/01/2024 09:16:19</td>\n",
       "    </tr>\n",
       "    <tr>\n",
       "      <th>2</th>\n",
       "      <td>3</td>\n",
       "      <td>856</td>\n",
       "      <td>Store</td>\n",
       "      <td>Contoso Kennewick Store</td>\n",
       "      <td>On</td>\n",
       "      <td>Not informed</td>\n",
       "      <td>26.0</td>\n",
       "      <td>680</td>\n",
       "      <td>04/01/2024 09:16:19</td>\n",
       "    </tr>\n",
       "    <tr>\n",
       "      <th>3</th>\n",
       "      <td>4</td>\n",
       "      <td>424</td>\n",
       "      <td>Store</td>\n",
       "      <td>Contoso Bellevue Store</td>\n",
       "      <td>On</td>\n",
       "      <td>Not informed</td>\n",
       "      <td>19.0</td>\n",
       "      <td>455</td>\n",
       "      <td>04/01/2024 09:16:19</td>\n",
       "    </tr>\n",
       "    <tr>\n",
       "      <th>4</th>\n",
       "      <td>5</td>\n",
       "      <td>677</td>\n",
       "      <td>Store</td>\n",
       "      <td>Contoso Redmond Store</td>\n",
       "      <td>On</td>\n",
       "      <td>Not informed</td>\n",
       "      <td>33.0</td>\n",
       "      <td>560</td>\n",
       "      <td>04/01/2024 09:16:19</td>\n",
       "    </tr>\n",
       "  </tbody>\n",
       "</table>\n",
       "</div>"
      ],
      "text/plain": [
       "   StoreKey  GeographyKey StoreType                   StoreName Status  \\\n",
       "0         1           693     Store  Contoso Seattle No.1 Store     On   \n",
       "1         2           693     Store  Contoso Seattle No.2 Store     On   \n",
       "2         3           856     Store     Contoso Kennewick Store     On   \n",
       "3         4           424     Store      Contoso Bellevue Store     On   \n",
       "4         5           677     Store       Contoso Redmond Store     On   \n",
       "\n",
       "    CloseReason  EmployeeCount  SellingAreaSize      CurrentDateTime  \n",
       "0  Not informed           17.0              462  04/01/2024 09:16:19  \n",
       "1  Not informed           25.0              700  04/01/2024 09:16:19  \n",
       "2  Not informed           26.0              680  04/01/2024 09:16:19  \n",
       "3  Not informed           19.0              455  04/01/2024 09:16:19  \n",
       "4  Not informed           33.0              560  04/01/2024 09:16:19  "
      ]
     },
     "execution_count": 85,
     "metadata": {},
     "output_type": "execute_result"
    }
   ],
   "source": [
    "#tratando a coluna com informações nulas\n",
    "df_stores['CloseReason'] = df_stores['CloseReason'].fillna('Not informed')\n",
    "\n",
    "df_stores.head()"
   ]
  },
  {
   "cell_type": "code",
   "execution_count": 86,
   "metadata": {},
   "outputs": [
    {
     "data": {
      "text/html": [
       "<div>\n",
       "<style scoped>\n",
       "    .dataframe tbody tr th:only-of-type {\n",
       "        vertical-align: middle;\n",
       "    }\n",
       "\n",
       "    .dataframe tbody tr th {\n",
       "        vertical-align: top;\n",
       "    }\n",
       "\n",
       "    .dataframe thead th {\n",
       "        text-align: right;\n",
       "    }\n",
       "</style>\n",
       "<table border=\"1\" class=\"dataframe\">\n",
       "  <thead>\n",
       "    <tr style=\"text-align: right;\">\n",
       "      <th></th>\n",
       "      <th>ProductName</th>\n",
       "      <th>ProductDescription</th>\n",
       "      <th>Manufacturer</th>\n",
       "      <th>BrandName</th>\n",
       "      <th>ClassName</th>\n",
       "      <th>UnitCost</th>\n",
       "      <th>UnitPrice</th>\n",
       "      <th>ProductKey</th>\n",
       "      <th>ProductSubcategoryKey</th>\n",
       "      <th>CurrentDateTime</th>\n",
       "    </tr>\n",
       "  </thead>\n",
       "  <tbody>\n",
       "    <tr>\n",
       "      <th>0</th>\n",
       "      <td>Contoso Wireless Laser Mouse E50 Grey</td>\n",
       "      <td>Advanced 2.4 GHz cordless technology makes fre...</td>\n",
       "      <td>Contoso, Ltd</td>\n",
       "      <td>Contoso</td>\n",
       "      <td>Economy</td>\n",
       "      <td>10,69</td>\n",
       "      <td>20,96</td>\n",
       "      <td>873</td>\n",
       "      <td>22</td>\n",
       "      <td>04/01/2024 09:16:19</td>\n",
       "    </tr>\n",
       "    <tr>\n",
       "      <th>1</th>\n",
       "      <td>Contoso Optical Wheel OEM PS/2 Mouse E60 Grey</td>\n",
       "      <td>PS/2 mouse, 6 feet mouse cable</td>\n",
       "      <td>Contoso, Ltd</td>\n",
       "      <td>Contoso</td>\n",
       "      <td>Economy</td>\n",
       "      <td>6,63</td>\n",
       "      <td>13</td>\n",
       "      <td>879</td>\n",
       "      <td>22</td>\n",
       "      <td>04/01/2024 09:16:19</td>\n",
       "    </tr>\n",
       "    <tr>\n",
       "      <th>2</th>\n",
       "      <td>Contoso Optical Wheel OEM PS/2 Mouse E60 Black</td>\n",
       "      <td>PS/2 mouse, 6 feet mouse cable</td>\n",
       "      <td>Contoso, Ltd</td>\n",
       "      <td>Contoso</td>\n",
       "      <td>Economy</td>\n",
       "      <td>6,63</td>\n",
       "      <td>13</td>\n",
       "      <td>880</td>\n",
       "      <td>22</td>\n",
       "      <td>04/01/2024 09:16:19</td>\n",
       "    </tr>\n",
       "    <tr>\n",
       "      <th>3</th>\n",
       "      <td>Contoso Optical Wheel OEM PS/2 Mouse E60 White</td>\n",
       "      <td>PS/2 mouse, 6 feet mouse cable</td>\n",
       "      <td>Contoso, Ltd</td>\n",
       "      <td>Contoso</td>\n",
       "      <td>Economy</td>\n",
       "      <td>6,63</td>\n",
       "      <td>13</td>\n",
       "      <td>881</td>\n",
       "      <td>22</td>\n",
       "      <td>04/01/2024 09:16:19</td>\n",
       "    </tr>\n",
       "    <tr>\n",
       "      <th>4</th>\n",
       "      <td>Contoso Optical Wheel OEM PS/2 Mouse E60 Silver</td>\n",
       "      <td>PS/2 mouse, 6 feet mouse cable</td>\n",
       "      <td>Contoso, Ltd</td>\n",
       "      <td>Contoso</td>\n",
       "      <td>Economy</td>\n",
       "      <td>6,63</td>\n",
       "      <td>13</td>\n",
       "      <td>882</td>\n",
       "      <td>22</td>\n",
       "      <td>04/01/2024 09:16:19</td>\n",
       "    </tr>\n",
       "  </tbody>\n",
       "</table>\n",
       "</div>"
      ],
      "text/plain": [
       "                                       ProductName  \\\n",
       "0            Contoso Wireless Laser Mouse E50 Grey   \n",
       "1    Contoso Optical Wheel OEM PS/2 Mouse E60 Grey   \n",
       "2   Contoso Optical Wheel OEM PS/2 Mouse E60 Black   \n",
       "3   Contoso Optical Wheel OEM PS/2 Mouse E60 White   \n",
       "4  Contoso Optical Wheel OEM PS/2 Mouse E60 Silver   \n",
       "\n",
       "                                  ProductDescription  Manufacturer BrandName  \\\n",
       "0  Advanced 2.4 GHz cordless technology makes fre...  Contoso, Ltd   Contoso   \n",
       "1                     PS/2 mouse, 6 feet mouse cable  Contoso, Ltd   Contoso   \n",
       "2                     PS/2 mouse, 6 feet mouse cable  Contoso, Ltd   Contoso   \n",
       "3                     PS/2 mouse, 6 feet mouse cable  Contoso, Ltd   Contoso   \n",
       "4                     PS/2 mouse, 6 feet mouse cable  Contoso, Ltd   Contoso   \n",
       "\n",
       "  ClassName UnitCost UnitPrice  ProductKey  ProductSubcategoryKey  \\\n",
       "0   Economy    10,69     20,96         873                     22   \n",
       "1   Economy     6,63        13         879                     22   \n",
       "2   Economy     6,63        13         880                     22   \n",
       "3   Economy     6,63        13         881                     22   \n",
       "4   Economy     6,63        13         882                     22   \n",
       "\n",
       "       CurrentDateTime  \n",
       "0  04/01/2024 09:16:19  \n",
       "1  04/01/2024 09:16:19  \n",
       "2  04/01/2024 09:16:19  \n",
       "3  04/01/2024 09:16:19  \n",
       "4  04/01/2024 09:16:19  "
      ]
     },
     "execution_count": 86,
     "metadata": {},
     "output_type": "execute_result"
    }
   ],
   "source": [
    "df_product.head()"
   ]
  },
  {
   "cell_type": "code",
   "execution_count": 87,
   "metadata": {},
   "outputs": [
    {
     "data": {
      "text/html": [
       "<div>\n",
       "<style scoped>\n",
       "    .dataframe tbody tr th:only-of-type {\n",
       "        vertical-align: middle;\n",
       "    }\n",
       "\n",
       "    .dataframe tbody tr th {\n",
       "        vertical-align: top;\n",
       "    }\n",
       "\n",
       "    .dataframe thead th {\n",
       "        text-align: right;\n",
       "    }\n",
       "</style>\n",
       "<table border=\"1\" class=\"dataframe\">\n",
       "  <thead>\n",
       "    <tr style=\"text-align: right;\">\n",
       "      <th></th>\n",
       "      <th>Channel</th>\n",
       "      <th>ChannelName</th>\n",
       "      <th>CurrentDateTime</th>\n",
       "    </tr>\n",
       "  </thead>\n",
       "  <tbody>\n",
       "    <tr>\n",
       "      <th>0</th>\n",
       "      <td>1</td>\n",
       "      <td>Store</td>\n",
       "      <td>04/01/2024 09:16:19</td>\n",
       "    </tr>\n",
       "    <tr>\n",
       "      <th>1</th>\n",
       "      <td>2</td>\n",
       "      <td>Online</td>\n",
       "      <td>04/01/2024 09:16:19</td>\n",
       "    </tr>\n",
       "    <tr>\n",
       "      <th>2</th>\n",
       "      <td>3</td>\n",
       "      <td>Catalog</td>\n",
       "      <td>04/01/2024 09:16:19</td>\n",
       "    </tr>\n",
       "    <tr>\n",
       "      <th>3</th>\n",
       "      <td>4</td>\n",
       "      <td>Reseller</td>\n",
       "      <td>04/01/2024 09:16:19</td>\n",
       "    </tr>\n",
       "  </tbody>\n",
       "</table>\n",
       "</div>"
      ],
      "text/plain": [
       "   Channel ChannelName      CurrentDateTime\n",
       "0        1       Store  04/01/2024 09:16:19\n",
       "1        2      Online  04/01/2024 09:16:19\n",
       "2        3     Catalog  04/01/2024 09:16:19\n",
       "3        4    Reseller  04/01/2024 09:16:19"
      ]
     },
     "execution_count": 87,
     "metadata": {},
     "output_type": "execute_result"
    }
   ],
   "source": [
    "df_channel"
   ]
  },
  {
   "cell_type": "code",
   "execution_count": 88,
   "metadata": {},
   "outputs": [
    {
     "data": {
      "text/html": [
       "<div>\n",
       "<style scoped>\n",
       "    .dataframe tbody tr th:only-of-type {\n",
       "        vertical-align: middle;\n",
       "    }\n",
       "\n",
       "    .dataframe tbody tr th {\n",
       "        vertical-align: top;\n",
       "    }\n",
       "\n",
       "    .dataframe thead th {\n",
       "        text-align: right;\n",
       "    }\n",
       "</style>\n",
       "<table border=\"1\" class=\"dataframe\">\n",
       "  <thead>\n",
       "    <tr style=\"text-align: right;\">\n",
       "      <th></th>\n",
       "      <th>ProductCategoryKey</th>\n",
       "      <th>ProductCategory</th>\n",
       "      <th>CurrentDateTime</th>\n",
       "    </tr>\n",
       "  </thead>\n",
       "  <tbody>\n",
       "    <tr>\n",
       "      <th>0</th>\n",
       "      <td>1</td>\n",
       "      <td>Audio</td>\n",
       "      <td>04/01/2024 09:16:19</td>\n",
       "    </tr>\n",
       "    <tr>\n",
       "      <th>1</th>\n",
       "      <td>2</td>\n",
       "      <td>TV and Video</td>\n",
       "      <td>04/01/2024 09:16:19</td>\n",
       "    </tr>\n",
       "    <tr>\n",
       "      <th>2</th>\n",
       "      <td>3</td>\n",
       "      <td>Computers</td>\n",
       "      <td>04/01/2024 09:16:19</td>\n",
       "    </tr>\n",
       "    <tr>\n",
       "      <th>3</th>\n",
       "      <td>4</td>\n",
       "      <td>Cameras and camcorders</td>\n",
       "      <td>04/01/2024 09:16:19</td>\n",
       "    </tr>\n",
       "    <tr>\n",
       "      <th>4</th>\n",
       "      <td>5</td>\n",
       "      <td>Cell phones</td>\n",
       "      <td>04/01/2024 09:16:19</td>\n",
       "    </tr>\n",
       "    <tr>\n",
       "      <th>5</th>\n",
       "      <td>6</td>\n",
       "      <td>Music, Movies and Audio Books</td>\n",
       "      <td>04/01/2024 09:16:19</td>\n",
       "    </tr>\n",
       "    <tr>\n",
       "      <th>6</th>\n",
       "      <td>7</td>\n",
       "      <td>Games and Toys</td>\n",
       "      <td>04/01/2024 09:16:19</td>\n",
       "    </tr>\n",
       "    <tr>\n",
       "      <th>7</th>\n",
       "      <td>8</td>\n",
       "      <td>Home Appliances</td>\n",
       "      <td>04/01/2024 09:16:19</td>\n",
       "    </tr>\n",
       "  </tbody>\n",
       "</table>\n",
       "</div>"
      ],
      "text/plain": [
       "   ProductCategoryKey                ProductCategory      CurrentDateTime\n",
       "0                   1                          Audio  04/01/2024 09:16:19\n",
       "1                   2                   TV and Video  04/01/2024 09:16:19\n",
       "2                   3                      Computers  04/01/2024 09:16:19\n",
       "3                   4         Cameras and camcorders  04/01/2024 09:16:19\n",
       "4                   5                    Cell phones  04/01/2024 09:16:19\n",
       "5                   6  Music, Movies and Audio Books  04/01/2024 09:16:19\n",
       "6                   7                 Games and Toys  04/01/2024 09:16:19\n",
       "7                   8                Home Appliances  04/01/2024 09:16:19"
      ]
     },
     "execution_count": 88,
     "metadata": {},
     "output_type": "execute_result"
    }
   ],
   "source": [
    "df_product_category"
   ]
  },
  {
   "cell_type": "code",
   "execution_count": 89,
   "metadata": {},
   "outputs": [
    {
     "data": {
      "text/html": [
       "<div>\n",
       "<style scoped>\n",
       "    .dataframe tbody tr th:only-of-type {\n",
       "        vertical-align: middle;\n",
       "    }\n",
       "\n",
       "    .dataframe tbody tr th {\n",
       "        vertical-align: top;\n",
       "    }\n",
       "\n",
       "    .dataframe thead th {\n",
       "        text-align: right;\n",
       "    }\n",
       "</style>\n",
       "<table border=\"1\" class=\"dataframe\">\n",
       "  <thead>\n",
       "    <tr style=\"text-align: right;\">\n",
       "      <th></th>\n",
       "      <th>GeographyKey</th>\n",
       "      <th>GeographyType</th>\n",
       "      <th>ContinentName</th>\n",
       "      <th>RegionCountryName</th>\n",
       "      <th>CurrentDateTime</th>\n",
       "    </tr>\n",
       "  </thead>\n",
       "  <tbody>\n",
       "    <tr>\n",
       "      <th>0</th>\n",
       "      <td>424</td>\n",
       "      <td>City</td>\n",
       "      <td>North America</td>\n",
       "      <td>United States</td>\n",
       "      <td>04/01/2024 09:16:19</td>\n",
       "    </tr>\n",
       "    <tr>\n",
       "      <th>1</th>\n",
       "      <td>430</td>\n",
       "      <td>City</td>\n",
       "      <td>North America</td>\n",
       "      <td>United States</td>\n",
       "      <td>04/01/2024 09:16:19</td>\n",
       "    </tr>\n",
       "    <tr>\n",
       "      <th>2</th>\n",
       "      <td>431</td>\n",
       "      <td>City</td>\n",
       "      <td>North America</td>\n",
       "      <td>United States</td>\n",
       "      <td>04/01/2024 09:16:19</td>\n",
       "    </tr>\n",
       "    <tr>\n",
       "      <th>3</th>\n",
       "      <td>432</td>\n",
       "      <td>City</td>\n",
       "      <td>North America</td>\n",
       "      <td>United States</td>\n",
       "      <td>04/01/2024 09:16:19</td>\n",
       "    </tr>\n",
       "    <tr>\n",
       "      <th>4</th>\n",
       "      <td>433</td>\n",
       "      <td>City</td>\n",
       "      <td>North America</td>\n",
       "      <td>United States</td>\n",
       "      <td>04/01/2024 09:16:19</td>\n",
       "    </tr>\n",
       "  </tbody>\n",
       "</table>\n",
       "</div>"
      ],
      "text/plain": [
       "   GeographyKey GeographyType  ContinentName RegionCountryName  \\\n",
       "0           424          City  North America     United States   \n",
       "1           430          City  North America     United States   \n",
       "2           431          City  North America     United States   \n",
       "3           432          City  North America     United States   \n",
       "4           433          City  North America     United States   \n",
       "\n",
       "       CurrentDateTime  \n",
       "0  04/01/2024 09:16:19  \n",
       "1  04/01/2024 09:16:19  \n",
       "2  04/01/2024 09:16:19  \n",
       "3  04/01/2024 09:16:19  \n",
       "4  04/01/2024 09:16:19  "
      ]
     },
     "execution_count": 89,
     "metadata": {},
     "output_type": "execute_result"
    }
   ],
   "source": [
    "df_geography.head()"
   ]
  },
  {
   "cell_type": "markdown",
   "metadata": {},
   "source": [
    "Lista todos os blobs do azure storage"
   ]
  },
  {
   "cell_type": "code",
   "execution_count": 90,
   "metadata": {},
   "outputs": [
    {
     "name": "stdout",
     "output_type": "stream",
     "text": [
      "Nome do Blob: CSV\n",
      "Nome do Blob: CSV/Channel.csv\n",
      "Nome do Blob: CSV/Geography.csv\n",
      "Nome do Blob: CSV/Product.csv\n",
      "Nome do Blob: CSV/ProductCategory.csv\n",
      "Nome do Blob: CSV/Stores.csv\n",
      "Nome do Blob: Carros.csv\n",
      "Nome do Blob: Excel\n",
      "Nome do Blob: Processados\n",
      "Nome do Blob: Processados/Calendar.csv\n",
      "Nome do Blob: Processados/Channel.csv\n",
      "Nome do Blob: Processados/Geography.csv\n",
      "Nome do Blob: Processados/Product.csv\n",
      "Nome do Blob: Processados/ProductCategory.csv\n",
      "Nome do Blob: Processados/ProductSubcategory.csv\n",
      "Nome do Blob: Processados/Promotion.csv\n",
      "Nome do Blob: Processados/Sales.csv\n",
      "Nome do Blob: Processados/Stores.csv\n",
      "Nome do Blob: raw\n"
     ]
    }
   ],
   "source": [
    "# Obtém referência para o contêiner\n",
    "container_client = blob_service_client.get_container_client(container_name)\n",
    "\n",
    "# Lista os blobs no contêiner\n",
    "blobs = container_client.list_blobs()\n",
    "\n",
    "# Itera sobre os blobs e faz alguma coisa (por exemplo, imprime o nome do blob)\n",
    "for blob in blobs:\n",
    "    print(f\"Nome do Blob: {blob.name}\")\n",
    "\n",
    "# Lê o conteúdo do blob\n",
    "blob_client = blob_service_client.get_blob_client(container=container_name, blob=blob.name)\n",
    "conteudo_blob = blob_client.download_blob()\n"
   ]
  },
  {
   "cell_type": "markdown",
   "metadata": {},
   "source": [
    "Conexão com o Azure SQL"
   ]
  },
  {
   "cell_type": "code",
   "execution_count": 91,
   "metadata": {},
   "outputs": [],
   "source": [
    "#importando as bibliotecas\n",
    "from sqlalchemy import create_engine\n",
    "import pyodbc\n",
    "from azure.storage.blob import BlobType\n",
    "import time"
   ]
  },
  {
   "cell_type": "code",
   "execution_count": 92,
   "metadata": {},
   "outputs": [],
   "source": [
    "# Configurações de conexão\n",
    "server_name = \"seu_servidor.database.windows.net\"\n",
    "database_name = \"seu_banco_de_dados\"\n",
    "username = \"seu_usuario\"\n",
    "password = \"sua_senha\""
   ]
  },
  {
   "cell_type": "code",
   "execution_count": 93,
   "metadata": {},
   "outputs": [],
   "source": [
    "def criar_conexao_azure_sql(server_name, database_name, username, password):\n",
    "    # Define a string de conexão\n",
    "    connection_string = f\"DRIVER={{ODBC Driver 17 for SQL Server}};SERVER={server_name};DATABASE={database_name};UID={username};PWD={password};\"\n",
    "\n",
    "    # Cria a conexão\n",
    "    conexao = pyodbc.connect(connection_string)\n",
    "\n",
    "    return conexao"
   ]
  },
  {
   "cell_type": "code",
   "execution_count": 94,
   "metadata": {},
   "outputs": [],
   "source": [
    "\n",
    "# Cria a string de conexão\n",
    "connection_string = f\"mssql+pyodbc://{username}:{password}@{server_name}/{database_name}?driver=ODBC+Driver+17+for+SQL+Server\"\n",
    "\n",
    "# Cria uma engine de conexão usando SQLAlchemy\n",
    "engine = create_engine(connection_string, echo=False)\n"
   ]
  },
  {
   "cell_type": "code",
   "execution_count": 95,
   "metadata": {},
   "outputs": [
    {
     "name": "stdout",
     "output_type": "stream",
     "text": [
      "Tabela carregada\n"
     ]
    }
   ],
   "source": [
    "# Inserir dados na tabela stg_stores\n",
    "df_stores.to_sql(name=\"stg_stores\", con=engine, if_exists=\"replace\", index=False)\n",
    "print('Tabela carregada')"
   ]
  },
  {
   "cell_type": "code",
   "execution_count": 96,
   "metadata": {},
   "outputs": [
    {
     "name": "stdout",
     "output_type": "stream",
     "text": [
      "Tabela carregada\n"
     ]
    }
   ],
   "source": [
    "# Inserir dados na tabela stg_Product\n",
    "df_product.to_sql(name=\"stg_product\", con=engine, if_exists=\"replace\", index=False)\n",
    "print('Tabela carregada')"
   ]
  },
  {
   "cell_type": "code",
   "execution_count": 97,
   "metadata": {},
   "outputs": [
    {
     "name": "stdout",
     "output_type": "stream",
     "text": [
      "Tabela carregada\n"
     ]
    }
   ],
   "source": [
    "# Inserir dados na tabela stg_channel\n",
    "df_channel.to_sql(name=\"stg_channel\", con=engine, if_exists=\"replace\", index=False)\n",
    "print('Tabela carregada')"
   ]
  },
  {
   "cell_type": "code",
   "execution_count": 98,
   "metadata": {},
   "outputs": [
    {
     "name": "stdout",
     "output_type": "stream",
     "text": [
      "Tabela carregada\n"
     ]
    }
   ],
   "source": [
    "# Inserir dados na tabela stg_geography\n",
    "df_geography.to_sql(name=\"stg_geography\", con=engine, if_exists=\"replace\", index=False)\n",
    "print('Tabela carregada')"
   ]
  },
  {
   "cell_type": "code",
   "execution_count": 99,
   "metadata": {},
   "outputs": [
    {
     "name": "stdout",
     "output_type": "stream",
     "text": [
      "Tabela carregada\n"
     ]
    }
   ],
   "source": [
    "# Inserir dados na tabela stg_product_category\n",
    "df_product_category.to_sql(name=\"stg_product_category\", con=engine, if_exists=\"replace\", index=False)\n",
    "print('Tabela carregada')"
   ]
  },
  {
   "cell_type": "code",
   "execution_count": 100,
   "metadata": {},
   "outputs": [],
   "source": [
    "# Fechar a conexão\n",
    "engine.dispose()"
   ]
  },
  {
   "cell_type": "markdown",
   "metadata": {},
   "source": [
    "Apaga e move os arquivos para outra pasta"
   ]
  },
  {
   "cell_type": "code",
   "execution_count": 103,
   "metadata": {},
   "outputs": [],
   "source": [
    "def mover_arquivos_para_processados(account_key, account_name, container_name, pasta_origem, pasta_destino):\n",
    "    \n",
    "    for blob in container_client.list_blobs(name_starts_with=f\"{pasta_origem}/\"):\n",
    "        novo_blob_name = blob.name.replace(pasta_origem, pasta_destino, 1)\n",
    "        novo_blob_client = container_client.get_blob_client(novo_blob_name)\n",
    "        \n",
    "        # Copia o blob para a pasta de destino\n",
    "        novo_blob_client.start_copy_from_url(f\"https://{account_name}.blob.core.windows.net/{container_name}/{blob.name}\")\n",
    "                \n",
    "        # Deleta o blob original\n",
    "        container_client.get_blob_client(blob.name).delete_blob()\n",
    "\n",
    "mover_arquivos_para_processados(account_key, account_name, container_name, \"CSV\", \"Processados\")\n"
   ]
  }
 ],
 "metadata": {
  "kernelspec": {
   "display_name": "base",
   "language": "python",
   "name": "python3"
  },
  "language_info": {
   "codemirror_mode": {
    "name": "ipython",
    "version": 3
   },
   "file_extension": ".py",
   "mimetype": "text/x-python",
   "name": "python",
   "nbconvert_exporter": "python",
   "pygments_lexer": "ipython3",
   "version": "3.9.12"
  }
 },
 "nbformat": 4,
 "nbformat_minor": 2
}
