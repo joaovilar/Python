{
  "nbformat": 4,
  "nbformat_minor": 0,
  "metadata": {
    "colab": {
      "provenance": []
    },
    "kernelspec": {
      "name": "python3",
      "display_name": "Python 3"
    },
    "language_info": {
      "name": "python"
    }
  },
  "cells": [
    {
      "cell_type": "markdown",
      "source": [
        "# Install Java, Spark, and Findspark\n",
        "# Set Environment Variables"
      ],
      "metadata": {
        "id": "x-irazIvhTsR"
      }
    },
    {
      "cell_type": "code",
      "source": [
        "!apt-get update"
      ],
      "metadata": {
        "colab": {
          "base_uri": "https://localhost:8080/"
        },
        "id": "LWvqTQZrMxW-",
        "outputId": "ca93a263-f933-4b3e-ac2a-f53e68f0ef3a"
      },
      "execution_count": 15,
      "outputs": [
        {
          "output_type": "stream",
          "name": "stdout",
          "text": [
            "\r0% [Working]\r            \rGet:1 https://cloud.r-project.org/bin/linux/ubuntu jammy-cran40/ InRelease [3,626 B]\n",
            "\r0% [Waiting for headers] [Waiting for headers] [1 InRelease 3,626 B/3,626 B 100%] [Waiting for heade\r0% [Waiting for headers] [Waiting for headers] [Waiting for headers] [Waiting for headers] [Connecte\r                                                                                                    \rHit:2 http://archive.ubuntu.com/ubuntu jammy InRelease\n",
            "\r0% [Waiting for headers] [Waiting for headers] [Waiting for headers] [Waiting for headers] [Connecte\r                                                                                                    \rGet:3 http://archive.ubuntu.com/ubuntu jammy-updates InRelease [128 kB]\n",
            "\r0% [3 InRelease 9,828 B/128 kB 8%] [Waiting for headers] [Waiting for headers] [Waiting for headers]\r                                                                                                    \rGet:4 https://developer.download.nvidia.com/compute/cuda/repos/ubuntu2204/x86_64  InRelease [1,581 B]\n",
            "\r0% [3 InRelease 15.6 kB/128 kB 12%] [Waiting for headers] [Waiting for headers] [4 InRelease 1,581 B\r0% [3 InRelease 15.6 kB/128 kB 12%] [Waiting for headers] [Waiting for headers] [Connected to ppa.la\r                                                                                                    \rGet:5 http://security.ubuntu.com/ubuntu jammy-security InRelease [129 kB]\n",
            "\r0% [3 InRelease 53.3 kB/128 kB 42%] [5 InRelease 14.2 kB/129 kB 11%] [Waiting for headers] [Connecte\r                                                                                                    \rGet:6 https://r2u.stat.illinois.edu/ubuntu jammy InRelease [6,555 B]\n",
            "Get:7 http://archive.ubuntu.com/ubuntu jammy-backports InRelease [127 kB]\n",
            "Get:8 https://developer.download.nvidia.com/compute/cuda/repos/ubuntu2204/x86_64  Packages [1,192 kB]\n",
            "Get:9 https://ppa.launchpadcontent.net/deadsnakes/ppa/ubuntu jammy InRelease [18.1 kB]\n",
            "Hit:10 https://ppa.launchpadcontent.net/graphics-drivers/ppa/ubuntu jammy InRelease\n",
            "Get:11 https://r2u.stat.illinois.edu/ubuntu jammy/main all Packages [8,531 kB]\n",
            "Hit:12 https://ppa.launchpadcontent.net/ubuntugis/ppa/ubuntu jammy InRelease\n",
            "Get:13 http://archive.ubuntu.com/ubuntu jammy-updates/main amd64 Packages [2,738 kB]\n",
            "Get:14 https://r2u.stat.illinois.edu/ubuntu jammy/main amd64 Packages [2,626 kB]\n",
            "Get:15 http://security.ubuntu.com/ubuntu jammy-security/main amd64 Packages [2,454 kB]\n",
            "Get:16 https://ppa.launchpadcontent.net/deadsnakes/ppa/ubuntu jammy/main amd64 Packages [32.9 kB]\n",
            "Fetched 18.0 MB in 2s (7,783 kB/s)\n",
            "Reading package lists... Done\n",
            "W: Skipping acquire of configured file 'main/source/Sources' as repository 'https://r2u.stat.illinois.edu/ubuntu jammy InRelease' does not seem to provide it (sources.list entry misspelt?)\n"
          ]
        }
      ]
    },
    {
      "cell_type": "code",
      "execution_count": 16,
      "metadata": {
        "id": "Sp6XpnqXcRCg"
      },
      "outputs": [],
      "source": [
        "# Install Java\n",
        "!apt-get install openjdk-11-jdk-headless -qq > /dev/null"
      ]
    },
    {
      "cell_type": "code",
      "source": [
        "#Download the version in Spark\n",
        "!wget https://archive.apache.org/dist/spark/spark-3.5.0/spark-3.5.0-bin-hadoop3.tgz"
      ],
      "metadata": {
        "colab": {
          "base_uri": "https://localhost:8080/"
        },
        "id": "TifFMcVfcymA",
        "outputId": "af3c583b-1afc-43f7-93e8-cf9d9867e0e2"
      },
      "execution_count": 17,
      "outputs": [
        {
          "output_type": "stream",
          "name": "stdout",
          "text": [
            "--2024-12-08 12:18:42--  https://archive.apache.org/dist/spark/spark-3.5.0/spark-3.5.0-bin-hadoop3.tgz\n",
            "Resolving archive.apache.org (archive.apache.org)... 65.108.204.189, 2a01:4f9:1a:a084::2\n",
            "Connecting to archive.apache.org (archive.apache.org)|65.108.204.189|:443... connected.\n",
            "HTTP request sent, awaiting response... 200 OK\n",
            "Length: 400395283 (382M) [application/x-gzip]\n",
            "Saving to: ‘spark-3.5.0-bin-hadoop3.tgz.1’\n",
            "\n",
            "spark-3.5.0-bin-had 100%[===================>] 381.85M  26.9MB/s    in 15s     \n",
            "\n",
            "2024-12-08 12:18:58 (25.3 MB/s) - ‘spark-3.5.0-bin-hadoop3.tgz.1’ saved [400395283/400395283]\n",
            "\n"
          ]
        }
      ]
    },
    {
      "cell_type": "code",
      "source": [
        "!tar xf spark-3.5.0-bin-hadoop3.tgz\n"
      ],
      "metadata": {
        "id": "lLgdgmylf-4s"
      },
      "execution_count": 18,
      "outputs": []
    },
    {
      "cell_type": "code",
      "source": [
        "!pip install -q findspark"
      ],
      "metadata": {
        "id": "1Mdg5OODNM84"
      },
      "execution_count": 19,
      "outputs": []
    },
    {
      "cell_type": "code",
      "source": [
        "from google.colab import drive\n",
        "\n",
        "drive.mount('/content/drive')"
      ],
      "metadata": {
        "id": "qoPaxdnZPt_P"
      },
      "execution_count": null,
      "outputs": []
    },
    {
      "cell_type": "code",
      "source": [
        "#Set the locations where Spark and Java are installed.\n",
        "import os\n",
        "os.environ[\"JAVA_HOME\"] = \"/usr/lib/jvm/java-11-openjdk-amd64\"\n",
        "os.environ[\"SPARK_HOME\"] = \"/content/spark-3.5.0-bin-hadoop3\"\n"
      ],
      "metadata": {
        "id": "ui7HgSGXdhDe"
      },
      "execution_count": 22,
      "outputs": []
    },
    {
      "cell_type": "code",
      "source": [
        "#This will start a local Spark session.\n",
        "import findspark\n",
        "findspark.init()"
      ],
      "metadata": {
        "id": "HoexnFv1eyQK"
      },
      "execution_count": 23,
      "outputs": []
    },
    {
      "cell_type": "code",
      "source": [
        "#Create Spark Session\n",
        "from pyspark.sql import SparkSession\n",
        "\n",
        "spark = SparkSession.builder\\\n",
        "        .master('local[*]')\\\n",
        "        .appName('SparkColab')\\\n",
        "        .getOrCreate()"
      ],
      "metadata": {
        "id": "ZRey-w0FgsLI"
      },
      "execution_count": 24,
      "outputs": []
    },
    {
      "cell_type": "markdown",
      "source": [
        "# Import DataSet\n"
      ],
      "metadata": {
        "id": "uoTR4XVudZuo"
      }
    },
    {
      "cell_type": "code",
      "source": [
        "df = spark.read.csv('/content/netflix_titles.csv', header=True, inferSchema=True)"
      ],
      "metadata": {
        "id": "U_UzWoadh5S1"
      },
      "execution_count": 30,
      "outputs": []
    },
    {
      "cell_type": "code",
      "source": [
        "df.printSchema()"
      ],
      "metadata": {
        "colab": {
          "base_uri": "https://localhost:8080/"
        },
        "id": "h8kby4AWim-c",
        "outputId": "fb935395-e911-4c1f-fe4b-7c7adb31c3be"
      },
      "execution_count": 31,
      "outputs": [
        {
          "output_type": "stream",
          "name": "stdout",
          "text": [
            "root\n",
            " |-- show_id: string (nullable = true)\n",
            " |-- type: string (nullable = true)\n",
            " |-- title: string (nullable = true)\n",
            " |-- director: string (nullable = true)\n",
            " |-- cast: string (nullable = true)\n",
            " |-- country: string (nullable = true)\n",
            " |-- date_added: string (nullable = true)\n",
            " |-- release_year: string (nullable = true)\n",
            " |-- rating: string (nullable = true)\n",
            " |-- duration: string (nullable = true)\n",
            " |-- listed_in: string (nullable = true)\n",
            " |-- description: string (nullable = true)\n",
            "\n"
          ]
        }
      ]
    },
    {
      "cell_type": "code",
      "source": [
        "df.show()"
      ],
      "metadata": {
        "colab": {
          "base_uri": "https://localhost:8080/"
        },
        "id": "Mt8qUKWDisje",
        "outputId": "cfbb4dd6-1fbf-4666-b4a1-77b7e1defe17"
      },
      "execution_count": 32,
      "outputs": [
        {
          "output_type": "stream",
          "name": "stdout",
          "text": [
            "+--------+-------+--------------------+--------------------+--------------------+--------------------+-----------------+------------+--------+--------+--------------------+--------------------+\n",
            "| show_id|   type|               title|            director|                cast|             country|       date_added|release_year|  rating|duration|           listed_in|         description|\n",
            "+--------+-------+--------------------+--------------------+--------------------+--------------------+-----------------+------------+--------+--------+--------------------+--------------------+\n",
            "|81145628|  Movie|Norm of the North...|Richard Finn, Tim...|Alan Marriott, An...|United States, In...|September 9, 2019|        2019|   TV-PG|  90 min|Children & Family...|Before planning a...|\n",
            "|80117401|  Movie|Jandino: Whatever...|                NULL|    Jandino Asporaat|      United Kingdom|September 9, 2016|        2016|   TV-MA|  94 min|     Stand-Up Comedy|\"Jandino Asporaat...|\n",
            "|70234439|TV Show|  Transformers Prime|                NULL|Peter Cullen, Sum...|       United States|September 8, 2018|        2013|TV-Y7-FV|1 Season|            Kids' TV|With the help of ...|\n",
            "|80058654|TV Show|Transformers: Rob...|                NULL|Will Friedle, Dar...|       United States|September 8, 2018|        2016|   TV-Y7|1 Season|            Kids' TV|When a prison shi...|\n",
            "|80125979|  Movie|        #realityhigh|    Fernando Lebrija|Nesta Cooper, Kat...|       United States|September 8, 2017|        2017|   TV-14|  99 min|            Comedies|When nerdy high s...|\n",
            "|80163890|TV Show|             Apaches|                NULL|Alberto Ammann, E...|               Spain|September 8, 2017|        2016|   TV-MA|1 Season|Crime TV Shows, I...|A young journalis...|\n",
            "|70304989|  Movie|            Automata|         Gabe Ibáñez|Antonio Banderas,...|Bulgaria, United ...|September 8, 2017|        2014|       R| 110 min|International Mov...|In a dystopian fu...|\n",
            "|80164077|  Movie|Fabrizio Copano: ...|Rodrigo Toro, Fra...|     Fabrizio Copano|               Chile|September 8, 2017|        2017|   TV-MA|  60 min|     Stand-Up Comedy|Fabrizio Copano t...|\n",
            "|80117902|TV Show|        Fire Chasers|                NULL|                NULL|       United States|September 8, 2017|        2017|   TV-MA|1 Season|Docuseries, Scien...|As California's 2...|\n",
            "|70304990|  Movie|         Good People|   Henrik Ruben Genz|James Franco, Kat...|United States, Un...|September 8, 2017|        2014|       R|  90 min|Action & Adventur...|A struggling coup...|\n",
            "|80169755|  Movie|Joaquín Reyes: Un...|José Miguel Contr...|       Joaquín Reyes|                NULL|September 8, 2017|        2017|   TV-MA|  78 min|     Stand-Up Comedy|Comedian and cele...|\n",
            "|70299204|  Movie|Kidnapping Mr. He...|    Daniel Alfredson|Jim Sturgess, Sam...|Netherlands, Belg...|September 8, 2017|        2015|       R|  95 min|Action & Adventur...|\"When beer magnat...|\n",
            "|80182480|  Movie|Krish Trish and B...|                NULL|Damandeep Singh B...|                NULL|September 8, 2017|        2009|   TV-Y7|  58 min|Children & Family...|A team of minstre...|\n",
            "|80182483|  Movie|Krish Trish and B...|Munjal Shroff, Ti...|Damandeep Singh B...|                NULL|September 8, 2017|        2013|   TV-Y7|  62 min|Children & Family...|An artisan is che...|\n",
            "|80182596|  Movie|Krish Trish and B...|Munjal Shroff, Ti...|Damandeep Singh B...|                NULL|September 8, 2017|        2016|    TV-Y|  65 min|Children & Family...|A cat, monkey and...|\n",
            "|80182482|  Movie|Krish Trish and B...|        Tilak Shetty|Damandeep Singh B...|                NULL|September 8, 2017|        2012|   TV-Y7|  61 min|Children & Family...|In three comic-st...|\n",
            "|80182597|  Movie|Krish Trish and B...|        Tilak Shetty|Rishi Gambhir, Sm...|                NULL|September 8, 2017|        2017|   TV-Y7|  65 min|Children & Family...|A cat, monkey and...|\n",
            "|80182481|  Movie|Krish Trish and B...|                NULL|Damandeep Singh B...|                NULL|September 8, 2017|        2010|   TV-Y7|  58 min|Children & Family...|Animal minstrels ...|\n",
            "|80182621|  Movie|Krish Trish and B...|Munjal Shroff, Ti...|Damandeep Singh B...|                NULL|September 8, 2017|        2013|   TV-Y7|  60 min|Children & Family...|The consequences ...|\n",
            "|80057969|  Movie|                Love|          Gaspar Noé|Karl Glusman, Kla...|     France, Belgium|September 8, 2017|        2015|      NR| 135 min|Cult Movies, Dram...|A man in an unsat...|\n",
            "+--------+-------+--------------------+--------------------+--------------------+--------------------+-----------------+------------+--------+--------+--------------------+--------------------+\n",
            "only showing top 20 rows\n",
            "\n"
          ]
        }
      ]
    },
    {
      "cell_type": "code",
      "source": [
        "df_movie = df.select('title','director','country','release_year','duration')"
      ],
      "metadata": {
        "id": "rths7KiKiy_o"
      },
      "execution_count": 34,
      "outputs": []
    },
    {
      "cell_type": "code",
      "source": [
        "df_movie.show()"
      ],
      "metadata": {
        "colab": {
          "base_uri": "https://localhost:8080/"
        },
        "id": "ZEeTiYPkjF2t",
        "outputId": "a4f4bbce-e84d-45e8-b2d9-d408173f6950"
      },
      "execution_count": 35,
      "outputs": [
        {
          "output_type": "stream",
          "name": "stdout",
          "text": [
            "+--------------------+--------------------+--------------------+------------+--------+\n",
            "|               title|            director|             country|release_year|duration|\n",
            "+--------------------+--------------------+--------------------+------------+--------+\n",
            "|Norm of the North...|Richard Finn, Tim...|United States, In...|        2019|  90 min|\n",
            "|Jandino: Whatever...|                NULL|      United Kingdom|        2016|  94 min|\n",
            "|  Transformers Prime|                NULL|       United States|        2013|1 Season|\n",
            "|Transformers: Rob...|                NULL|       United States|        2016|1 Season|\n",
            "|        #realityhigh|    Fernando Lebrija|       United States|        2017|  99 min|\n",
            "|             Apaches|                NULL|               Spain|        2016|1 Season|\n",
            "|            Automata|         Gabe Ibáñez|Bulgaria, United ...|        2014| 110 min|\n",
            "|Fabrizio Copano: ...|Rodrigo Toro, Fra...|               Chile|        2017|  60 min|\n",
            "|        Fire Chasers|                NULL|       United States|        2017|1 Season|\n",
            "|         Good People|   Henrik Ruben Genz|United States, Un...|        2014|  90 min|\n",
            "|Joaquín Reyes: Un...|José Miguel Contr...|                NULL|        2017|  78 min|\n",
            "|Kidnapping Mr. He...|    Daniel Alfredson|Netherlands, Belg...|        2015|  95 min|\n",
            "|Krish Trish and B...|                NULL|                NULL|        2009|  58 min|\n",
            "|Krish Trish and B...|Munjal Shroff, Ti...|                NULL|        2013|  62 min|\n",
            "|Krish Trish and B...|Munjal Shroff, Ti...|                NULL|        2016|  65 min|\n",
            "|Krish Trish and B...|        Tilak Shetty|                NULL|        2012|  61 min|\n",
            "|Krish Trish and B...|        Tilak Shetty|                NULL|        2017|  65 min|\n",
            "|Krish Trish and B...|                NULL|                NULL|        2010|  58 min|\n",
            "|Krish Trish and B...|Munjal Shroff, Ti...|                NULL|        2013|  60 min|\n",
            "|                Love|          Gaspar Noé|     France, Belgium|        2015| 135 min|\n",
            "+--------------------+--------------------+--------------------+------------+--------+\n",
            "only showing top 20 rows\n",
            "\n"
          ]
        }
      ]
    },
    {
      "cell_type": "code",
      "source": [
        "from pyspark.sql.functions import current_date"
      ],
      "metadata": {
        "id": "mcCGIGImO9Ia"
      },
      "execution_count": 43,
      "outputs": []
    },
    {
      "cell_type": "code",
      "source": [
        "# Alterar o tipo da coluna \"release_year\" para inteiro e adicionar a data atual\n",
        "df_transformed = df.withColumn(\"release_year\", df[\"release_year\"].cast(\"int\")) \\\n",
        "                   .withColumn(\"data_corrente\", current_date())\n",
        "\n",
        "df_transformed.printSchema()\n",
        "df_transformed.show(5)"
      ],
      "metadata": {
        "colab": {
          "base_uri": "https://localhost:8080/"
        },
        "id": "hiZfXUvyjR0C",
        "outputId": "f1485ebc-8cdc-4476-ac26-2c5fc49054cf"
      },
      "execution_count": 44,
      "outputs": [
        {
          "output_type": "stream",
          "name": "stdout",
          "text": [
            "root\n",
            " |-- show_id: string (nullable = true)\n",
            " |-- type: string (nullable = true)\n",
            " |-- title: string (nullable = true)\n",
            " |-- director: string (nullable = true)\n",
            " |-- cast: string (nullable = true)\n",
            " |-- country: string (nullable = true)\n",
            " |-- date_added: string (nullable = true)\n",
            " |-- release_year: integer (nullable = true)\n",
            " |-- rating: string (nullable = true)\n",
            " |-- duration: string (nullable = true)\n",
            " |-- listed_in: string (nullable = true)\n",
            " |-- description: string (nullable = true)\n",
            " |-- data_corrente: date (nullable = false)\n",
            "\n",
            "+--------+-------+--------------------+--------------------+--------------------+--------------------+-----------------+------------+--------+--------+--------------------+--------------------+-------------+\n",
            "| show_id|   type|               title|            director|                cast|             country|       date_added|release_year|  rating|duration|           listed_in|         description|data_corrente|\n",
            "+--------+-------+--------------------+--------------------+--------------------+--------------------+-----------------+------------+--------+--------+--------------------+--------------------+-------------+\n",
            "|81145628|  Movie|Norm of the North...|Richard Finn, Tim...|Alan Marriott, An...|United States, In...|September 9, 2019|        2019|   TV-PG|  90 min|Children & Family...|Before planning a...|   2024-12-08|\n",
            "|80117401|  Movie|Jandino: Whatever...|                NULL|    Jandino Asporaat|      United Kingdom|September 9, 2016|        2016|   TV-MA|  94 min|     Stand-Up Comedy|\"Jandino Asporaat...|   2024-12-08|\n",
            "|70234439|TV Show|  Transformers Prime|                NULL|Peter Cullen, Sum...|       United States|September 8, 2018|        2013|TV-Y7-FV|1 Season|            Kids' TV|With the help of ...|   2024-12-08|\n",
            "|80058654|TV Show|Transformers: Rob...|                NULL|Will Friedle, Dar...|       United States|September 8, 2018|        2016|   TV-Y7|1 Season|            Kids' TV|When a prison shi...|   2024-12-08|\n",
            "|80125979|  Movie|        #realityhigh|    Fernando Lebrija|Nesta Cooper, Kat...|       United States|September 8, 2017|        2017|   TV-14|  99 min|            Comedies|When nerdy high s...|   2024-12-08|\n",
            "+--------+-------+--------------------+--------------------+--------------------+--------------------+-----------------+------------+--------+--------+--------------------+--------------------+-------------+\n",
            "only showing top 5 rows\n",
            "\n"
          ]
        }
      ]
    },
    {
      "cell_type": "code",
      "source": [
        "# Filtrar filmes lançados após 2015\n",
        "df_filtrado = df_transformed.filter(df_transformed[\"release_year\"] > 2015)\n",
        "df_filtrado.show(5, truncate=False)\n"
      ],
      "metadata": {
        "colab": {
          "base_uri": "https://localhost:8080/"
        },
        "id": "Ew67F96sqoDd",
        "outputId": "df5f00fd-0fd3-4fc2-edaf-c625906e2cde"
      },
      "execution_count": 46,
      "outputs": [
        {
          "output_type": "stream",
          "name": "stdout",
          "text": [
            "+--------+-------+---------------------------------------+------------------------+------------------------------------------------------------------------------------------------------------------------------------------------------------------------+----------------------------------------+-----------------+------------+------+--------+-----------------------------------------------------------------+-----------------------------------------------------------------------------------------------------------------------------------------------------+-------------+\n",
            "|show_id |type   |title                                  |director                |cast                                                                                                                                                                    |country                                 |date_added       |release_year|rating|duration|listed_in                                                        |description                                                                                                                                          |data_corrente|\n",
            "+--------+-------+---------------------------------------+------------------------+------------------------------------------------------------------------------------------------------------------------------------------------------------------------+----------------------------------------+-----------------+------------+------+--------+-----------------------------------------------------------------+-----------------------------------------------------------------------------------------------------------------------------------------------------+-------------+\n",
            "|81145628|Movie  |Norm of the North: King Sized Adventure|Richard Finn, Tim Maltby|Alan Marriott, Andrew Toth, Brian Dobson, Cole Howard, Jennifer Cameron, Jonathan Holmes, Lee Tockar, Lisa Durupt, Maya Kay, Michael Dobson                             |United States, India, South Korea, China|September 9, 2019|2019        |TV-PG |90 min  |Children & Family Movies, Comedies                               |Before planning an awesome wedding for his grandfather, a polar bear king must take back a stolen artifact from an evil archaeologist first.         |2024-12-08   |\n",
            "|80117401|Movie  |Jandino: Whatever it Takes             |NULL                    |Jandino Asporaat                                                                                                                                                        |United Kingdom                          |September 9, 2016|2016        |TV-MA |94 min  |Stand-Up Comedy                                                  |\"Jandino Asporaat riffs on the challenges of raising kids and serenades the audience with a rousing rendition of \"\"Sex on Fire\"\" in his comedy show.\"|2024-12-08   |\n",
            "|80058654|TV Show|Transformers: Robots in Disguise       |NULL                    |Will Friedle, Darren Criss, Constance Zimmer, Khary Payton, Mitchell Whitfield, Stuart Allan, Ted McGinley, Peter Cullen                                                |United States                           |September 8, 2018|2016        |TV-Y7 |1 Season|Kids' TV                                                         |When a prison ship crash unleashes hundreds of Decepticons on Earth, Bumblebee leads a new Autobot force to protect humankind.                       |2024-12-08   |\n",
            "|80125979|Movie  |#realityhigh                           |Fernando Lebrija        |Nesta Cooper, Kate Walsh, John Michael Higgins, Keith Powers, Alicia Sanz, Jake Borelli, Kid Ink, Yousef Erakat, Rebekah Graf, Anne Winters, Peter Gilroy, Patrick Davis|United States                           |September 8, 2017|2017        |TV-14 |99 min  |Comedies                                                         |When nerdy high schooler Dani finally attracts the interest of her longtime crush, she lands in the cross hairs of his ex, a social media celebrity. |2024-12-08   |\n",
            "|80163890|TV Show|Apaches                                |NULL                    |Alberto Ammann, Eloy Azorín, Verónica Echegui, Lucía Jiménez, Claudia Traisac                                                                                           |Spain                                   |September 8, 2017|2016        |TV-MA |1 Season|Crime TV Shows, International TV Shows, Spanish-Language TV Shows|A young journalist is forced into a life of crime to save his father and family in this series based on the novel by Miguel Sáez Carral.             |2024-12-08   |\n",
            "+--------+-------+---------------------------------------+------------------------+------------------------------------------------------------------------------------------------------------------------------------------------------------------------+----------------------------------------+-----------------+------------+------+--------+-----------------------------------------------------------------+-----------------------------------------------------------------------------------------------------------------------------------------------------+-------------+\n",
            "only showing top 5 rows\n",
            "\n"
          ]
        }
      ]
    },
    {
      "cell_type": "code",
      "source": [
        "# Contar a quantidade de títulos por gênero (listed_in)\n",
        "df_generos = df_transformed.groupBy(\"listed_in\").count()\n",
        "df_generos = df_generos.orderBy(col(\"count\").desc())\n",
        "\n",
        "df_generos.show(truncate=False)"
      ],
      "metadata": {
        "colab": {
          "base_uri": "https://localhost:8080/"
        },
        "id": "rUK6VKM_j-gx",
        "outputId": "0b782a84-b39b-4ba3-8162-199d94b1a51f"
      },
      "execution_count": 49,
      "outputs": [
        {
          "output_type": "stream",
          "name": "stdout",
          "text": [
            "+----------------------------------------------------+-----+\n",
            "|listed_in                                           |count|\n",
            "+----------------------------------------------------+-----+\n",
            "|Documentaries                                       |299  |\n",
            "|Stand-Up Comedy                                     |273  |\n",
            "|Dramas, International Movies                        |248  |\n",
            "|Dramas, Independent Movies, International Movies    |186  |\n",
            "|Comedies, Dramas, International Movies              |174  |\n",
            "|Kids' TV                                            |159  |\n",
            "|Documentaries, International Movies                 |150  |\n",
            "|Children & Family Movies, Comedies                  |129  |\n",
            "|Children & Family Movies                            |120  |\n",
            "|Comedies, International Movies                      |120  |\n",
            "|Dramas, International Movies, Romantic Movies       |108  |\n",
            "|Action & Adventure, Dramas, International Movies    |103  |\n",
            "|Comedies, International Movies, Romantic Movies     |97   |\n",
            "|Dramas, International Movies, Thrillers             |93   |\n",
            "|Crime TV Shows, International TV Shows, TV Dramas   |92   |\n",
            "|International TV Shows, TV Dramas                   |92   |\n",
            "|Dramas                                              |89   |\n",
            "|International TV Shows, Romantic TV Shows, TV Dramas|78   |\n",
            "|Comedies, Dramas, Independent Movies                |77   |\n",
            "|Kids' TV, TV Comedies                               |75   |\n",
            "+----------------------------------------------------+-----+\n",
            "only showing top 20 rows\n",
            "\n"
          ]
        }
      ]
    },
    {
      "cell_type": "code",
      "source": [
        "from pyspark.sql.functions import regexp_replace"
      ],
      "metadata": {
        "id": "6Bf57Z0EPvaK"
      },
      "execution_count": 52,
      "outputs": []
    },
    {
      "cell_type": "code",
      "source": [
        "df_duracao = df_transformed.withColumn(\"duration_min\",\n",
        "                                       regexp_replace(\"duration\", \" min\", \"\").cast(\"int\"))\n",
        "\n",
        "# Filtrar títulos com mais de 100 minutos\n",
        "df_longos = df_duracao.filter(df_duracao[\"duration_min\"] > 100)\n",
        "df_longos.show(5, truncate=False)"
      ],
      "metadata": {
        "colab": {
          "base_uri": "https://localhost:8080/"
        },
        "id": "COnPO25Ykoqx",
        "outputId": "11812bff-e19e-4cec-9798-9b32e628d479"
      },
      "execution_count": 53,
      "outputs": [
        {
          "output_type": "stream",
          "name": "stdout",
          "text": [
            "+--------+-----+------------------+---------------------------+---------------------------------------------------------------------------------------------------------------------------------------------------------------+--------------------------------------+-----------------+------------+------+--------+----------------------------------------------------+---------------------------------------------------------------------------------------------------------------------------------------------------------+-------------+------------+\n",
            "|show_id |type |title             |director                   |cast                                                                                                                                                           |country                               |date_added       |release_year|rating|duration|listed_in                                           |description                                                                                                                                              |data_corrente|duration_min|\n",
            "+--------+-----+------------------+---------------------------+---------------------------------------------------------------------------------------------------------------------------------------------------------------+--------------------------------------+-----------------+------------+------+--------+----------------------------------------------------+---------------------------------------------------------------------------------------------------------------------------------------------------------+-------------+------------+\n",
            "|70304989|Movie|Automata          |Gabe Ibáñez                |Antonio Banderas, Dylan McDermott, Melanie Griffith, Birgitte Hjort Sørensen, Robert Forster, Christa Campbell, Tim McInnerny, Andy Nyman, David Ryall         |Bulgaria, United States, Spain, Canada|September 8, 2017|2014        |R     |110 min |International Movies, Sci-Fi & Fantasy, Thrillers   |In a dystopian future, an insurance adjuster for a tech company investigates a robot killed for violating protocol and discovers a global conspiracy.    |2024-12-08   |110         |\n",
            "|80057969|Movie|Love              |Gaspar Noé                 |Karl Glusman, Klara Kristin, Aomi Muyock, Ugo Fox, Juan Saavedra, Gaspar Noé, Isabelle Nicou, Benoît Debie, Vincent Maraval, Déborah Révy                      |France, Belgium                       |September 8, 2017|2015        |NR    |135 min |Cult Movies, Dramas, Independent Movies             |A man in an unsatisfying marriage recalls the details of an intense past relationship with an ex-girlfriend when he gets word that she may be missing.   |2024-12-08   |135         |\n",
            "|70304988|Movie|Stonehearst Asylum|Brad Anderson              |Kate Beckinsale, Jim Sturgess, David Thewlis, Brendan Gleeson, Ben Kingsley, Michael Caine, Jason Flemyng, Sophie Kennedy Clark, Sinéad Cusack, Edmund Kingsley|United States                         |September 8, 2017|2014        |PG-13 |113 min |Horror Movies, Thrillers                            |In 1899, a young doctor arrives at an asylum for an apprenticeship and becomes suspicious of his mentor's methods while falling for a female patient.    |2024-12-08   |113         |\n",
            "|70241607|Movie|Laddaland         |Sopon Sukdapisit           |Saharat Sangkapreecha, Pok Piyatida Woramusik, Sutatta Udomsilp, Athipich Chutiwatkajornchai, Deuntem Salitul, Sahajak Boonthanakit                            |Thailand                              |September 7, 2018|2011        |TV-MA |112 min |Horror Movies, International Movies                 |When a family moves into an upscale housing development, they encounter a series of paranormal events that drive them to the edge of insanity.           |2024-12-08   |112         |\n",
            "|80988892|Movie|Next Gen          |Kevin R. Adams, Joe Ksander|John Krasinski, Charlyne Yi, Jason Sudeikis, Michael Peña, David Cross, Constance Wu                                                                           |China, Canada, United States          |September 7, 2018|2018        |TV-PG |106 min |Children & Family Movies, Comedies, Sci-Fi & Fantasy|When lonely Mai forms an unlikely bond with a top-secret robot, they embark on an intense, action-packed adventure to foil the plot of a vicious villain.|2024-12-08   |106         |\n",
            "+--------+-----+------------------+---------------------------+---------------------------------------------------------------------------------------------------------------------------------------------------------------+--------------------------------------+-----------------+------------+------+--------+----------------------------------------------------+---------------------------------------------------------------------------------------------------------------------------------------------------------+-------------+------------+\n",
            "only showing top 5 rows\n",
            "\n"
          ]
        }
      ]
    },
    {
      "cell_type": "code",
      "source": [
        "from pyspark.sql.functions import max"
      ],
      "metadata": {
        "id": "cbg9qvYoP16V"
      },
      "execution_count": 54,
      "outputs": []
    },
    {
      "cell_type": "code",
      "source": [
        "# Consultar o título com a maior duração\n",
        "df_maior_duracao = df_duracao.agg(max(\"duration_min\").alias(\"maior_duracao\"))\n",
        "df_maior_duracao.show()"
      ],
      "metadata": {
        "colab": {
          "base_uri": "https://localhost:8080/"
        },
        "id": "dIAI1IcTk67x",
        "outputId": "c3aa4258-1eca-4447-e56b-93611d8eb0ac"
      },
      "execution_count": 56,
      "outputs": [
        {
          "output_type": "stream",
          "name": "stdout",
          "text": [
            "+-------------+\n",
            "|maior_duracao|\n",
            "+-------------+\n",
            "|          312|\n",
            "+-------------+\n",
            "\n"
          ]
        }
      ]
    },
    {
      "cell_type": "code",
      "source": [
        "# Mostrar detalhes do título com a maior duração\n",
        "maior_duracao = df_maior_duracao.collect()[0][\"maior_duracao\"]\n",
        "df_titulo_maior_duracao = df_duracao.filter(df_duracao[\"duration_min\"] == maior_duracao)\n",
        "df_titulo_maior_duracao.show(truncate=False)"
      ],
      "metadata": {
        "colab": {
          "base_uri": "https://localhost:8080/"
        },
        "id": "GX4gq1ubP6-_",
        "outputId": "08dd058f-9649-4af9-b43e-5d684abb5c39"
      },
      "execution_count": 57,
      "outputs": [
        {
          "output_type": "stream",
          "name": "stdout",
          "text": [
            "+--------+-----+--------------------------+--------+-------------------------------------------------------------------------+-------------+-----------------+------------+------+--------+----------------------------------------------+------------------------------------------------------------------------------------------------------------------------------------------------------+-------------+------------+\n",
            "|show_id |type |title                     |director|cast                                                                     |country      |date_added       |release_year|rating|duration|listed_in                                     |description                                                                                                                                           |data_corrente|duration_min|\n",
            "+--------+-----+--------------------------+--------+-------------------------------------------------------------------------+-------------+-----------------+------------+------+--------+----------------------------------------------+------------------------------------------------------------------------------------------------------------------------------------------------------+-------------+------------+\n",
            "|80988062|Movie|Black Mirror: Bandersnatch|NULL    |Fionn Whitehead, Will Poulter, Craig Parkinson, Alice Lowe, Asim Chaudhry|United States|December 28, 2018|2018        |TV-MA |312 min |Dramas, International Movies, Sci-Fi & Fantasy|In 1984, a young programmer begins to question reality as he adapts a dark fantasy novel into a video game. A mind-bending tale with multiple endings.|2024-12-08   |312         |\n",
            "+--------+-----+--------------------------+--------+-------------------------------------------------------------------------+-------------+-----------------+------------+------+--------+----------------------------------------------+------------------------------------------------------------------------------------------------------------------------------------------------------+-------------+------------+\n",
            "\n"
          ]
        }
      ]
    },
    {
      "cell_type": "code",
      "source": [
        "from pyspark.sql.functions import year, to_date"
      ],
      "metadata": {
        "id": "XH1J-mWQQO2k"
      },
      "execution_count": 66,
      "outputs": []
    },
    {
      "cell_type": "code",
      "source": [
        "# Converter a coluna \"date_added\" para DateType\n",
        "df_transformed = df_transformed.withColumn(\"date_added\", to_date(\"date_added\", \"MMMM d, yyyy\"))\n",
        "\n",
        "# Criar uma coluna com o ano de adição\n",
        "df_ano_adicionado = df_transformed.withColumn(\"ano_adicionado\", year(\"date_added\"))\n",
        "\n",
        "\n",
        "df_ano_adicionado.show(5)"
      ],
      "metadata": {
        "colab": {
          "base_uri": "https://localhost:8080/"
        },
        "id": "uxQYDWS9tJLV",
        "outputId": "ccecc076-55a7-4c81-c6c3-7642cacef7ef"
      },
      "execution_count": 67,
      "outputs": [
        {
          "output_type": "stream",
          "name": "stdout",
          "text": [
            "+--------+-------+--------------------+--------------------+--------------------+--------------------+----------+------------+--------+--------+--------------------+--------------------+-------------+--------------+\n",
            "| show_id|   type|               title|            director|                cast|             country|date_added|release_year|  rating|duration|           listed_in|         description|data_corrente|ano_adicionado|\n",
            "+--------+-------+--------------------+--------------------+--------------------+--------------------+----------+------------+--------+--------+--------------------+--------------------+-------------+--------------+\n",
            "|81145628|  Movie|Norm of the North...|Richard Finn, Tim...|Alan Marriott, An...|United States, In...|2019-09-09|        2019|   TV-PG|  90 min|Children & Family...|Before planning a...|   2024-12-08|          2019|\n",
            "|80117401|  Movie|Jandino: Whatever...|                NULL|    Jandino Asporaat|      United Kingdom|2016-09-09|        2016|   TV-MA|  94 min|     Stand-Up Comedy|\"Jandino Asporaat...|   2024-12-08|          2016|\n",
            "|70234439|TV Show|  Transformers Prime|                NULL|Peter Cullen, Sum...|       United States|2018-09-08|        2013|TV-Y7-FV|1 Season|            Kids' TV|With the help of ...|   2024-12-08|          2018|\n",
            "|80058654|TV Show|Transformers: Rob...|                NULL|Will Friedle, Dar...|       United States|2018-09-08|        2016|   TV-Y7|1 Season|            Kids' TV|When a prison shi...|   2024-12-08|          2018|\n",
            "|80125979|  Movie|        #realityhigh|    Fernando Lebrija|Nesta Cooper, Kat...|       United States|2017-09-08|        2017|   TV-14|  99 min|            Comedies|When nerdy high s...|   2024-12-08|          2017|\n",
            "+--------+-------+--------------------+--------------------+--------------------+--------------------+----------+------------+--------+--------+--------------------+--------------------+-------------+--------------+\n",
            "only showing top 5 rows\n",
            "\n"
          ]
        }
      ]
    },
    {
      "cell_type": "code",
      "source": [
        "# Contar a frequência de títulos adicionados por ano\n",
        "df_frequencia_ano = df_ano_adicionado.groupBy(\"ano_adicionado\").count()\n",
        "df_frequencia_ano = df_frequencia_ano.orderBy(col(\"ano_adicionado\").asc())\n",
        "\n",
        "df_frequencia_ano.show(truncate=False)"
      ],
      "metadata": {
        "colab": {
          "base_uri": "https://localhost:8080/"
        },
        "id": "lYSDgnPVRVU7",
        "outputId": "7600d558-4f12-49ef-9008-094b5f5760aa"
      },
      "execution_count": 68,
      "outputs": [
        {
          "output_type": "stream",
          "name": "stdout",
          "text": [
            "+--------------+-----+\n",
            "|ano_adicionado|count|\n",
            "+--------------+-----+\n",
            "|NULL          |661  |\n",
            "|2008          |2    |\n",
            "|2009          |2    |\n",
            "|2010          |1    |\n",
            "|2011          |13   |\n",
            "|2012          |7    |\n",
            "|2013          |9    |\n",
            "|2014          |19   |\n",
            "|2015          |73   |\n",
            "|2016          |412  |\n",
            "|2017          |1182 |\n",
            "|2018          |1627 |\n",
            "|2019          |2055 |\n",
            "|2020          |173  |\n",
            "+--------------+-----+\n",
            "\n"
          ]
        }
      ]
    },
    {
      "cell_type": "code",
      "source": [
        "# Usando IN: Filtrar registros onde o país está em uma lista de valores\n",
        "countries_to_include = [\"United States\", \"United Kingdom\", \"France\"]\n",
        "df_included = df_ano_adicionado.filter(col(\"country\").isin(countries_to_include))\n",
        "df_included.show(truncate=False)"
      ],
      "metadata": {
        "colab": {
          "base_uri": "https://localhost:8080/"
        },
        "id": "thLcc7oKTZ_5",
        "outputId": "0db8418e-8cd5-4050-a541-c3e4ed5f4424"
      },
      "execution_count": 78,
      "outputs": [
        {
          "output_type": "stream",
          "name": "stdout",
          "text": [
            "+--------+-------+--------------------------------+-------------------------------+-----------------------------------------------------------------------------------------------------------------------------------------------------------------------------------------------------------------------------------------------------+--------------+----------+------------+--------+--------+------------------------------------------------+--------------------------------------------------------------------------------------------------------------------------------------------------------+-------------+--------------+\n",
            "|show_id |type   |title                           |director                       |cast                                                                                                                                                                                                                                                 |country       |date_added|release_year|rating  |duration|listed_in                                       |description                                                                                                                                             |data_corrente|ano_adicionado|\n",
            "+--------+-------+--------------------------------+-------------------------------+-----------------------------------------------------------------------------------------------------------------------------------------------------------------------------------------------------------------------------------------------------+--------------+----------+------------+--------+--------+------------------------------------------------+--------------------------------------------------------------------------------------------------------------------------------------------------------+-------------+--------------+\n",
            "|80117401|Movie  |Jandino: Whatever it Takes      |NULL                           |Jandino Asporaat                                                                                                                                                                                                                                     |United Kingdom|2016-09-09|2016        |TV-MA   |94 min  |Stand-Up Comedy                                 |\"Jandino Asporaat riffs on the challenges of raising kids and serenades the audience with a rousing rendition of \"\"Sex on Fire\"\" in his comedy show.\"   |2024-12-08   |2016          |\n",
            "|70234439|TV Show|Transformers Prime              |NULL                           |Peter Cullen, Sumalee Montano, Frank Welker, Jeffrey Combs, Kevin Michael Richardson, Tania Gunadi, Josh Keaton, Steve Blum, Andy Pessoa, Ernie Hudson, Daran Norris, Will Friedle                                                                   |United States |2018-09-08|2013        |TV-Y7-FV|1 Season|Kids' TV                                        |With the help of three human allies, the Autobots once again protect Earth from the onslaught of the Decepticons and their leader, Megatron.            |2024-12-08   |2018          |\n",
            "|80058654|TV Show|Transformers: Robots in Disguise|NULL                           |Will Friedle, Darren Criss, Constance Zimmer, Khary Payton, Mitchell Whitfield, Stuart Allan, Ted McGinley, Peter Cullen                                                                                                                             |United States |2018-09-08|2016        |TV-Y7   |1 Season|Kids' TV                                        |When a prison ship crash unleashes hundreds of Decepticons on Earth, Bumblebee leads a new Autobot force to protect humankind.                          |2024-12-08   |2018          |\n",
            "|80125979|Movie  |#realityhigh                    |Fernando Lebrija               |Nesta Cooper, Kate Walsh, John Michael Higgins, Keith Powers, Alicia Sanz, Jake Borelli, Kid Ink, Yousef Erakat, Rebekah Graf, Anne Winters, Peter Gilroy, Patrick Davis                                                                             |United States |2017-09-08|2017        |TV-14   |99 min  |Comedies                                        |When nerdy high schooler Dani finally attracts the interest of her longtime crush, she lands in the cross hairs of his ex, a social media celebrity.    |2024-12-08   |2017          |\n",
            "|80117902|TV Show|Fire Chasers                    |NULL                           |NULL                                                                                                                                                                                                                                                 |United States |2017-09-08|2017        |TV-MA   |1 Season|Docuseries, Science & Nature TV                 |As California's 2016 fire season rages, brave backcountry firefighters race to put out the flames, protect homes and save lives in this docuseries.     |2024-12-08   |2017          |\n",
            "|80060297|Movie  |Manhattan Romance               |Tom O'Brien                    |Tom O'Brien, Katherine Waterston, Caitlin Fitzgerald, Gaby Hoffmann, Louis Cancelmi, Zach Grenier                                                                                                                                                    |United States |2017-09-08|2014        |TV-14   |98 min  |Comedies, Independent Movies, Romantic Movies   |A filmmaker working on a documentary about love in modern Manhattan becomes personally entangled in the romantic lives of his subjects.                 |2024-12-08   |2017          |\n",
            "|70304988|Movie  |Stonehearst Asylum              |Brad Anderson                  |Kate Beckinsale, Jim Sturgess, David Thewlis, Brendan Gleeson, Ben Kingsley, Michael Caine, Jason Flemyng, Sophie Kennedy Clark, Sinéad Cusack, Edmund Kingsley                                                                                      |United States |2017-09-08|2014        |PG-13   |113 min |Horror Movies, Thrillers                        |In 1899, a young doctor arrives at an asylum for an apprenticeship and becomes suspicious of his mentor's methods while falling for a female patient.   |2024-12-08   |2017          |\n",
            "|80057700|Movie  |The Runner                      |Austin Stark                   |Nicolas Cage, Sarah Paulson, Connie Nielsen, Wendell Pierce, Bryan Batt, Peter Fonda, Dana Gourrier                                                                                                                                                  |United States |2017-09-08|2015        |R       |90 min  |Dramas, Independent Movies                      |A New Orleans politician finds his idealistic plans for rebuilding after a toxic oil spill unraveling thanks to a sex scandal.                          |2024-12-08   |2017          |\n",
            "|80045922|Movie  |6 Years                         |Hannah Fidell                  |Taissa Farmiga, Ben Rosenfield, Lindsay Burdge, Joshua Leonard, Jennifer Lafleur, Peter Vack, Dana Wheeler-Nicholson, Jason Newman, Molly McMichael                                                                                                  |United States |2015-09-08|2015        |NR      |80 min  |Dramas, Independent Movies, Romantic Movies     |As a volatile young couple who have been together for six years approach college graduation, unexpected career opportunities threaten their future.     |2024-12-08   |2015          |\n",
            "|80239639|Movie  |Sierra Burgess Is A Loser       |Ian Samuels                    |Shannon Purser, Kristine Froseth, RJ Cyler, Noah Centineo, Loretta Devine, Giorgia Whigham, Alice Lee, Lea Thompson, Alan Ruck, Mary Pat Gleason, Chrissy Metz                                                                                       |United States |2018-09-07|2018        |PG-13   |106 min |Comedies, Romantic Movies                       |A wrong-number text sparks a virtual romance between a smart but unpopular teen and a sweet jock who thinks he's talking to a gorgeous cheerleader.     |2024-12-08   |2018          |\n",
            "|80178151|TV Show|The Spy                         |NULL                           |Sacha Baron Cohen, Noah Emmerich, Hadar Ratzon Rotem, Alexander Siddig, Waleed Zuaiter, Nassim Lyes                                                                                                                                                  |France        |2019-09-06|2019        |TV-MA   |1 Season|International TV Shows, TV Dramas, TV Thrillers |In the 1960s, Israeli clerk-turned-secret agent Eli Cohen goes deep undercover inside Syria on a perilous, years-long mission to spy for Mossad.        |2024-12-08   |2019          |\n",
            "|80058026|Movie  |Hell and Back                   |Tom Gianas, Ross R. Shuman     |Nick Swardson, Mila Kunis, Bob Odenkirk, T.J. Miller, Rob Riggle, Susan Sarandon, Danny McBride, Jennifer Coolidge, John Farley, Maria Bamford                                                                                                       |United States |2018-09-06|2015        |R       |86 min  |Action & Adventure, Comedies, Independent Movies|When best friends break a blood oath, one of them is cast away to hell, and the other two must save him from the misfits of the underworld.             |2024-12-08   |2018          |\n",
            "|80162141|Movie  |Hard Tide                       |Robert Osman, Nathanael Wiseman|Nathanael Wiseman, Mem Ferda, Alexandra Newick, Oliver Stark, Kat Gellin, Andy Lucas, Ralph Brown, Beverly Hills                                                                                                                                     |United Kingdom|2017-09-06|2015        |TV-MA   |79 min  |Dramas, Independent Movies                      |A drug dealer who's been emulating his father's successful criminal career is forced to go on the run with a young girl in this fact-based thriller.    |2024-12-08   |2017          |\n",
            "|80095641|Movie  |Elstree 1976                    |Jon Spira                      |Paul Blake, Jeremy Bulloch, John Chapman, Anthony Forrest, Laurie Goode, Garrick Hagon, Derek Lyons, Angus MacInnes, David Prowse, Pam Rose                                                                                                          |United Kingdom|2016-09-06|2015        |TV-PG   |102 min |Documentaries                                   |\"Then and now footage of bit players who appeared in \"\"Star Wars\"\" tells the story of how the film and its legions of fans changed their lives forever.\"|2024-12-08   |2016          |\n",
            "|80147760|Movie  |Carrie Pilby                    |Susan Johnson                  |Bel Powley, Nathan Lane, Vanessa Bayer, Gabriel Byrne, Jason Ritter, Colin O'Donoghue, William Moseley, Desmin Borges                                                                                                                                |United States |2017-09-05|2016        |TV-14   |98 min  |Comedies, Dramas                                |A socially awkward 19-year-old genius makes big plans to step out of her shell and make a friend, get a job and – maybe – even go on a date.            |2024-12-08   |2017          |\n",
            "|80177405|Movie  |Marc Maron: Too Real            |Lynn Shelton                   |Marc Maron                                                                                                                                                                                                                                           |United States |2017-09-05|2017        |TV-MA   |70 min  |Stand-Up Comedy                                 |Battle-scarred stand-up comedian Marc Maron unleashes a storm of ideas about meditation, mortality, documentary films and our weird modern world.       |2024-12-08   |2017          |\n",
            "|80113482|TV Show|No Tomorrow                     |NULL                           |Joshua Sasse, Tori Anderson, Jonathan Langdon, Sarayu Blue, Jesse Rath, Amy Pietz                                                                                                                                                                    |United States |2017-09-05|2016        |TV-14   |1 Season|Romantic TV Shows, TV Comedies, TV Dramas       |Her straitjacketed life turned topsy-turvy by hunky Xavier, Evie discovers a new freedom – even though her man just might be an end-of-days crackpot.   |2024-12-08   |2017          |\n",
            "|81078908|Movie  |The World We Make               |Brian Baugh                    |Caleb Castille, Rose Reid, Kevin Sizemore, Gregory Alan Williams                                                                                                                                                                                     |United States |2019-09-04|2019        |PG      |108 min |Dramas, Romantic Movies                         |A teenage equestrian and a local football player for each other, but simmering racism in their small town puts their relationship to the test.          |2024-12-08   |2019          |\n",
            "|80201906|Movie  |Black Panther                   |Ryan Coogler                   |Chadwick Boseman, Michael B. Jordan, Lupita Nyong'o, Danai Gurira, Martin Freeman, Daniel Kaluuya, Letitia Wright, Winston Duke, Sterling K. Brown, Angela Bassett, Forest Whitaker, Andy Serkis, Florence Kasumba, John Kani, David S. Lee, Stan Lee|United States |2018-09-04|2018        |PG-13   |135 min |Action & Adventure, Sci-Fi & Fantasy            |T'Challa, the superpowered new leader of the hidden, highly advanced African nation of Wakanda, strives to protect his home from enemies old and new.   |2024-12-08   |2018          |\n",
            "|80113641|TV Show|Frequency                       |NULL                           |Peyton List, Riley Smith, Mekhi Phifer, Devin Kelley, Lenny Jacobson, Daniel Bonjour, Anthony Ruivivar                                                                                                                                               |United States |2017-09-04|2016        |TV-14   |1 Season|Crime TV Shows, TV Dramas, TV Mysteries         |A detective seizes a precious opportunity to change the past when she finds she can communicate with her deceased, estranged father via a time warp.    |2024-12-08   |2017          |\n",
            "+--------+-------+--------------------------------+-------------------------------+-----------------------------------------------------------------------------------------------------------------------------------------------------------------------------------------------------------------------------------------------------+--------------+----------+------------+--------+--------+------------------------------------------------+--------------------------------------------------------------------------------------------------------------------------------------------------------+-------------+--------------+\n",
            "only showing top 20 rows\n",
            "\n"
          ]
        }
      ]
    },
    {
      "cell_type": "code",
      "source": [
        "# Usando NOT IN: Filtrar registros onde o país NÃO está em uma lista de valores\n",
        "countries_to_exclude = [\"United States\", \"United Kingdom\"]\n",
        "df_excluded = df_ano_adicionado.filter(~col(\"country\").isin(countries_to_exclude))\n",
        "df_excluded.show(truncate=False)"
      ],
      "metadata": {
        "colab": {
          "base_uri": "https://localhost:8080/"
        },
        "id": "YxyCICupTomY",
        "outputId": "87e61faa-59b4-4c89-dcbf-55b7b143279e"
      },
      "execution_count": 77,
      "outputs": [
        {
          "output_type": "stream",
          "name": "stdout",
          "text": [
            "+--------+-------+----------------------------------------+-------------------------------+-------------------------------------------------------------------------------------------------------------------------------------------------------------------------------------------------------------------------------------+---------------------------------------------------+----------+------------+------+--------+-----------------------------------------------------------------+---------------------------------------------------------------------------------------------------------------------------------------------------------+-------------+--------------+\n",
            "|show_id |type   |title                                   |director                       |cast                                                                                                                                                                                                                                 |country                                            |date_added|release_year|rating|duration|listed_in                                                        |description                                                                                                                                              |data_corrente|ano_adicionado|\n",
            "+--------+-------+----------------------------------------+-------------------------------+-------------------------------------------------------------------------------------------------------------------------------------------------------------------------------------------------------------------------------------+---------------------------------------------------+----------+------------+------+--------+-----------------------------------------------------------------+---------------------------------------------------------------------------------------------------------------------------------------------------------+-------------+--------------+\n",
            "|81145628|Movie  |Norm of the North: King Sized Adventure |Richard Finn, Tim Maltby       |Alan Marriott, Andrew Toth, Brian Dobson, Cole Howard, Jennifer Cameron, Jonathan Holmes, Lee Tockar, Lisa Durupt, Maya Kay, Michael Dobson                                                                                          |United States, India, South Korea, China           |2019-09-09|2019        |TV-PG |90 min  |Children & Family Movies, Comedies                               |Before planning an awesome wedding for his grandfather, a polar bear king must take back a stolen artifact from an evil archaeologist first.             |2024-12-08   |2019          |\n",
            "|80163890|TV Show|Apaches                                 |NULL                           |Alberto Ammann, Eloy Azorín, Verónica Echegui, Lucía Jiménez, Claudia Traisac                                                                                                                                                        |Spain                                              |2017-09-08|2016        |TV-MA |1 Season|Crime TV Shows, International TV Shows, Spanish-Language TV Shows|A young journalist is forced into a life of crime to save his father and family in this series based on the novel by Miguel Sáez Carral.                 |2024-12-08   |2017          |\n",
            "|70304989|Movie  |Automata                                |Gabe Ibáñez                    |Antonio Banderas, Dylan McDermott, Melanie Griffith, Birgitte Hjort Sørensen, Robert Forster, Christa Campbell, Tim McInnerny, Andy Nyman, David Ryall                                                                               |Bulgaria, United States, Spain, Canada             |2017-09-08|2014        |R     |110 min |International Movies, Sci-Fi & Fantasy, Thrillers                |In a dystopian future, an insurance adjuster for a tech company investigates a robot killed for violating protocol and discovers a global conspiracy.    |2024-12-08   |2017          |\n",
            "|80164077|Movie  |Fabrizio Copano: Solo pienso en mi      |Rodrigo Toro, Francisco Schultz|Fabrizio Copano                                                                                                                                                                                                                      |Chile                                              |2017-09-08|2017        |TV-MA |60 min  |Stand-Up Comedy                                                  |Fabrizio Copano takes audience participation to the next level in this stand-up set while reflecting on sperm banks, family WhatsApp groups and more.    |2024-12-08   |2017          |\n",
            "|70304990|Movie  |Good People                             |Henrik Ruben Genz              |James Franco, Kate Hudson, Tom Wilkinson, Omar Sy, Sam Spruell, Anna Friel, Thomas Arnold, Oliver Dimsdale, Diana Hardcastle, Michael Jibson, Diarmaid Murtagh                                                                       |United States, United Kingdom, Denmark, Sweden     |2017-09-08|2014        |R     |90 min  |Action & Adventure, Thrillers                                    |A struggling couple can't believe their luck when they find a stash of money in the apartment of a neighbor who was recently murdered.                   |2024-12-08   |2017          |\n",
            "|70299204|Movie  |Kidnapping Mr. Heineken                 |Daniel Alfredson               |Jim Sturgess, Sam Worthington, Ryan Kwanten, Anthony Hopkins, Mark van Eeuwen, Thomas Cocquerel, Jemima West, David Dencik                                                                                                           |Netherlands, Belgium, United Kingdom, United States|2017-09-08|2015        |R     |95 min  |Action & Adventure, Dramas, International Movies                 |\"When beer magnate Alfred \"\"Freddy\"\" Heineken is kidnapped in 1983                                                                                       |2024-12-08   |2017          |\n",
            "|80057969|Movie  |Love                                    |Gaspar Noé                     |Karl Glusman, Klara Kristin, Aomi Muyock, Ugo Fox, Juan Saavedra, Gaspar Noé, Isabelle Nicou, Benoît Debie, Vincent Maraval, Déborah Révy                                                                                            |France, Belgium                                    |2017-09-08|2015        |NR    |135 min |Cult Movies, Dramas, Independent Movies                          |A man in an unsatisfying marriage recalls the details of an intense past relationship with an ex-girlfriend when he gets word that she may be missing.   |2024-12-08   |2017          |\n",
            "|80046728|Movie  |Moonwalkers                             |Antoine Bardou-Jacquet         |Ron Perlman, Rupert Grint, Robert Sheehan, Stephen Campbell Moore, Eric Lampaert, Kevin Bishop, Tom Audenaert, Erika Sainte                                                                                                          |France, Belgium                                    |2017-09-08|2015        |R     |96 min  |Action & Adventure, Comedies, International Movies               |A brain-addled war vet, a failing band manager and a Stanley Kubrick impersonator help the CIA construct an epic scam by faking the 1969 moon landing.   |2024-12-08   |2017          |\n",
            "|80046727|Movie  |Rolling Papers                          |Mitch Dickman                  |NULL                                                                                                                                                                                                                                 |United States, Uruguay                             |2017-09-08|2015        |TV-MA |79 min  |Documentaries                                                    |As the newspaper industry takes a hit, The Denver Post breaks new ground with a section dedicated to cannabis culture.                                   |2024-12-08   |2017          |\n",
            "|80203094|Movie  |City of Joy                             |Madeleine Gavin                |NULL                                                                                                                                                                                                                                 |United States,                                     |2018-09-07|2018        |TV-MA |77 min  |Documentaries                                                    |Women who've been sexually brutalized in war-torn Congo begin to heal at City of Joy, a center that helps them regain a sense of self and empowerment.   |2024-12-08   |2018          |\n",
            "|70241607|Movie  |Laddaland                               |Sopon Sukdapisit               |Saharat Sangkapreecha, Pok Piyatida Woramusik, Sutatta Udomsilp, Athipich Chutiwatkajornchai, Deuntem Salitul, Sahajak Boonthanakit                                                                                                  |Thailand                                           |2018-09-07|2011        |TV-MA |112 min |Horror Movies, International Movies                              |When a family moves into an upscale housing development, they encounter a series of paranormal events that drive them to the edge of insanity.           |2024-12-08   |2018          |\n",
            "|80988892|Movie  |Next Gen                                |Kevin R. Adams, Joe Ksander    |John Krasinski, Charlyne Yi, Jason Sudeikis, Michael Peña, David Cross, Constance Wu                                                                                                                                                 |China, Canada, United States                       |2018-09-07|2018        |TV-PG |106 min |Children & Family Movies, Comedies, Sci-Fi & Fantasy             |When lonely Mai forms an unlikely bond with a top-secret robot, they embark on an intense, action-packed adventure to foil the plot of a vicious villain.|2024-12-08   |2018          |\n",
            "|80159586|Movie  |The Most Assassinated Woman in the World|Franck Ribière                 |Anna Mouglalis, Niels Schneider, André Wilms, Michel Fau, Sissi Duparc, Jean-Michel Balthazar, Julie Recoing, Eric Godon, Maya Coline, Constance Dollé                                                                               |Belgium, United Kingdom, United States             |2018-09-07|2018        |TV-MA |102 min |Dramas, International Movies, Thrillers                          |In 1930s Paris, an actress famous for her gory death scenes at the Grand Guignol Theater contends with a mysterious stalker and ghosts from her past.    |2024-12-08   |2018          |\n",
            "|80152447|Movie  |Cézanne et moi                          |Daniele Thompson               |Guillaume Canet, Guillaume Gallienne, Alice Pol, Déborah François, Sabine Azéma, Freya Mavor, Isabelle Candelier, Laurent Stocker                                                                                                    |Belgium, France                                    |2017-09-07|2016        |R     |114 min |Dramas, Independent Movies, International Movies                 |This historical drama explores the long and often volatile friendship of painter Paul Cézanne and writer Émile Zola, who first met as schoolboys.        |2024-12-08   |2017          |\n",
            "|81154455|Movie  |Article 15                              |Anubhav Sinha                  |Ayushmann Khurrana, Nassar, Manoj Pahwa, Kumud Mishra, Isha Talwar, Sayani Gupta, Mohammed Zeeshan Ayyub, Subhrajyoti Barat, Sushil Pandey, Aakash Dabhade                                                                           |India                                              |2019-09-06|2019        |TV-MA |125 min |Dramas, International Movies, Thrillers                          |The grim realities of caste discrimination come to light as an entitled but upright city cop ventures into India’s heartland to investigate a murder.    |2024-12-08   |2019          |\n",
            "|81052275|Movie  |Ee Nagaraniki Emaindi                   |Tharun Bhascker                |Vishwaksen Naidu, Sushanth Reddy, Abhinav Gomatam, Venkatesh Kakumanu, Anisha Ambrose, Simran Choudhary                                                                                                                              |India                                              |2019-09-06|2018        |TV-14 |133 min |Comedies, International Movies                                   |In Goa and in desperate need of cash, four childhood friends get another shot at making their long-abandoned dreams of becoming filmmakers come true.    |2024-12-08   |2019          |\n",
            "|80178151|TV Show|The Spy                                 |NULL                           |Sacha Baron Cohen, Noah Emmerich, Hadar Ratzon Rotem, Alexander Siddig, Waleed Zuaiter, Nassim Lyes                                                                                                                                  |France                                             |2019-09-06|2019        |TV-MA |1 Season|International TV Shows, TV Dramas, TV Thrillers                  |In the 1960s, Israeli clerk-turned-secret agent Eli Cohen goes deep undercover inside Syria on a perilous, years-long mission to spy for Mossad.         |2024-12-08   |2019          |\n",
            "|70303496|Movie  |PK                                      |Rajkumar Hirani                |Aamir Khan, Anuskha Sharma, Sanjay Dutt, Saurabh Shukla, Parikshat Sahni, Sushant Singh Rajput, Boman Irani, Rukhsar                                                                                                                 |India                                              |2018-09-06|2014        |TV-14 |146 min |Comedies, Dramas, International Movies                           |Aamir Khan teams with director Rajkumar Hirani to play a social crusader in a political satire on the state of corruption in India.                      |2024-12-08   |2018          |\n",
            "|80159880|Movie  |ATM                                     |Mez Tharatorn                  |Chantavit Dhanasevi, Preechaya Pongthananikorn, Chaleumpol Tikumpornteerawong, Thawat Pornrattanaprasert, Sananthachat Thanapatpisal, Pongkool Suebsung, Puttachat Pongsuchat, Gornpop Janjaroen, Yanee Tramoth, Pongsatorn Jongwilak|United States, Canada                              |2018-09-05|2012        |TV-14 |122 min |Comedies, International Movies, Romantic Movies                  |When a broken ATM dishes out a fortune, a couple who works at the bank vies to see who can recover the most cash – and the loser must find a new job.    |2024-12-08   |2018          |\n",
            "|81016044|Movie  |Bangkok Traffic (Love) Story            |Adisorn Tresirikasem           |Theeradej Wongpuapan, Sirin Horwang, Ungsumalynn Sirapatsakmetha, Panissara Phimpru, Taksaorn Paksukcharern, Charlie Trairat, Kazuki Yano                                                                                            |Thailand                                           |2018-09-05|2009        |TV-14 |126 min |Comedies, International Movies, Romantic Movies                  |After an encounter with an engineer working the night shift for the city train, a 30-year-old woman struggles against all odds to pursue true love.      |2024-12-08   |2018          |\n",
            "+--------+-------+----------------------------------------+-------------------------------+-------------------------------------------------------------------------------------------------------------------------------------------------------------------------------------------------------------------------------------+---------------------------------------------------+----------+------------+------+--------+-----------------------------------------------------------------+---------------------------------------------------------------------------------------------------------------------------------------------------------+-------------+--------------+\n",
            "only showing top 20 rows\n",
            "\n"
          ]
        }
      ]
    },
    {
      "cell_type": "code",
      "source": [
        "# Filtrar os registros onde o ano de adição NÃO é 2017 OU o país é \"United States\"\n",
        "df_filtered = df_ano_adicionado.filter(\n",
        "    ~(col(\"ano_adicionado\") != 2017) | (col(\"country\") == \"United States\")\n",
        ")\n",
        "df_filtered.show()"
      ],
      "metadata": {
        "colab": {
          "base_uri": "https://localhost:8080/"
        },
        "id": "MgoaNmy3uqrU",
        "outputId": "febc8d42-f1a0-4d5a-e3fe-62f6a992599b"
      },
      "execution_count": 73,
      "outputs": [
        {
          "output_type": "stream",
          "name": "stdout",
          "text": [
            "+--------+-------+--------------------+--------------------+--------------------+--------------------+----------+------------+--------+--------+--------------------+--------------------+-------------+--------------+\n",
            "| show_id|   type|               title|            director|                cast|             country|date_added|release_year|  rating|duration|           listed_in|         description|data_corrente|ano_adicionado|\n",
            "+--------+-------+--------------------+--------------------+--------------------+--------------------+----------+------------+--------+--------+--------------------+--------------------+-------------+--------------+\n",
            "|70234439|TV Show|  Transformers Prime|                NULL|Peter Cullen, Sum...|       United States|2018-09-08|        2013|TV-Y7-FV|1 Season|            Kids' TV|With the help of ...|   2024-12-08|          2018|\n",
            "|80058654|TV Show|Transformers: Rob...|                NULL|Will Friedle, Dar...|       United States|2018-09-08|        2016|   TV-Y7|1 Season|            Kids' TV|When a prison shi...|   2024-12-08|          2018|\n",
            "|80125979|  Movie|        #realityhigh|    Fernando Lebrija|Nesta Cooper, Kat...|       United States|2017-09-08|        2017|   TV-14|  99 min|            Comedies|When nerdy high s...|   2024-12-08|          2017|\n",
            "|80163890|TV Show|             Apaches|                NULL|Alberto Ammann, E...|               Spain|2017-09-08|        2016|   TV-MA|1 Season|Crime TV Shows, I...|A young journalis...|   2024-12-08|          2017|\n",
            "|70304989|  Movie|            Automata|         Gabe Ibáñez|Antonio Banderas,...|Bulgaria, United ...|2017-09-08|        2014|       R| 110 min|International Mov...|In a dystopian fu...|   2024-12-08|          2017|\n",
            "|80164077|  Movie|Fabrizio Copano: ...|Rodrigo Toro, Fra...|     Fabrizio Copano|               Chile|2017-09-08|        2017|   TV-MA|  60 min|     Stand-Up Comedy|Fabrizio Copano t...|   2024-12-08|          2017|\n",
            "|80117902|TV Show|        Fire Chasers|                NULL|                NULL|       United States|2017-09-08|        2017|   TV-MA|1 Season|Docuseries, Scien...|As California's 2...|   2024-12-08|          2017|\n",
            "|70304990|  Movie|         Good People|   Henrik Ruben Genz|James Franco, Kat...|United States, Un...|2017-09-08|        2014|       R|  90 min|Action & Adventur...|A struggling coup...|   2024-12-08|          2017|\n",
            "|80169755|  Movie|Joaquín Reyes: Un...|José Miguel Contr...|       Joaquín Reyes|                NULL|2017-09-08|        2017|   TV-MA|  78 min|     Stand-Up Comedy|Comedian and cele...|   2024-12-08|          2017|\n",
            "|70299204|  Movie|Kidnapping Mr. He...|    Daniel Alfredson|Jim Sturgess, Sam...|Netherlands, Belg...|2017-09-08|        2015|       R|  95 min|Action & Adventur...|\"When beer magnat...|   2024-12-08|          2017|\n",
            "|80182480|  Movie|Krish Trish and B...|                NULL|Damandeep Singh B...|                NULL|2017-09-08|        2009|   TV-Y7|  58 min|Children & Family...|A team of minstre...|   2024-12-08|          2017|\n",
            "|80182483|  Movie|Krish Trish and B...|Munjal Shroff, Ti...|Damandeep Singh B...|                NULL|2017-09-08|        2013|   TV-Y7|  62 min|Children & Family...|An artisan is che...|   2024-12-08|          2017|\n",
            "|80182596|  Movie|Krish Trish and B...|Munjal Shroff, Ti...|Damandeep Singh B...|                NULL|2017-09-08|        2016|    TV-Y|  65 min|Children & Family...|A cat, monkey and...|   2024-12-08|          2017|\n",
            "|80182482|  Movie|Krish Trish and B...|        Tilak Shetty|Damandeep Singh B...|                NULL|2017-09-08|        2012|   TV-Y7|  61 min|Children & Family...|In three comic-st...|   2024-12-08|          2017|\n",
            "|80182597|  Movie|Krish Trish and B...|        Tilak Shetty|Rishi Gambhir, Sm...|                NULL|2017-09-08|        2017|   TV-Y7|  65 min|Children & Family...|A cat, monkey and...|   2024-12-08|          2017|\n",
            "|80182481|  Movie|Krish Trish and B...|                NULL|Damandeep Singh B...|                NULL|2017-09-08|        2010|   TV-Y7|  58 min|Children & Family...|Animal minstrels ...|   2024-12-08|          2017|\n",
            "|80182621|  Movie|Krish Trish and B...|Munjal Shroff, Ti...|Damandeep Singh B...|                NULL|2017-09-08|        2013|   TV-Y7|  60 min|Children & Family...|The consequences ...|   2024-12-08|          2017|\n",
            "|80057969|  Movie|                Love|          Gaspar Noé|Karl Glusman, Kla...|     France, Belgium|2017-09-08|        2015|      NR| 135 min|Cult Movies, Dram...|A man in an unsat...|   2024-12-08|          2017|\n",
            "|80060297|  Movie|   Manhattan Romance|         Tom O'Brien|Tom O'Brien, Kath...|       United States|2017-09-08|        2014|   TV-14|  98 min|Comedies, Indepen...|A filmmaker worki...|   2024-12-08|          2017|\n",
            "|80046728|  Movie|         Moonwalkers|Antoine Bardou-Ja...|Ron Perlman, Rupe...|     France, Belgium|2017-09-08|        2015|       R|  96 min|Action & Adventur...|A brain-addled wa...|   2024-12-08|          2017|\n",
            "+--------+-------+--------------------+--------------------+--------------------+--------------------+----------+------------+--------+--------+--------------------+--------------------+-------------+--------------+\n",
            "only showing top 20 rows\n",
            "\n"
          ]
        }
      ]
    },
    {
      "cell_type": "code",
      "source": [
        "# Using SQL\n",
        "# Registrar o DataFrame como uma tabela SQL temporária\n",
        "df_ano_adicionado.createOrReplaceTempView(\"movies_table\")\n",
        "\n",
        "# Escrever uma consulta SQL para filtrar os dados\n",
        "df_sql_filtered = spark.sql(\"\"\"\n",
        "    SELECT *\n",
        "    FROM movies_table\n",
        "    WHERE (ano_adicionado NOT IN (2017, 2018) OR country = 'United States')\n",
        "\"\"\")\n",
        "\n",
        "\n",
        "df_sql_filtered.show(truncate=False)"
      ],
      "metadata": {
        "colab": {
          "base_uri": "https://localhost:8080/"
        },
        "id": "mtB2UTKawHxV",
        "outputId": "932029da-c383-428e-a9bd-879938713e2c"
      },
      "execution_count": 74,
      "outputs": [
        {
          "output_type": "stream",
          "name": "stdout",
          "text": [
            "+--------+-------+------------------------------------------------+--------------------------+----------------------------------------------------------------------------------------------------------------------------------------------------------------------------------+----------------------------------------+----------+------------+--------+--------+------------------------------------------------+--------------------------------------------------------------------------------------------------------------------------------------------------------+-------------+--------------+\n",
            "|show_id |type   |title                                           |director                  |cast                                                                                                                                                                              |country                                 |date_added|release_year|rating  |duration|listed_in                                       |description                                                                                                                                             |data_corrente|ano_adicionado|\n",
            "+--------+-------+------------------------------------------------+--------------------------+----------------------------------------------------------------------------------------------------------------------------------------------------------------------------------+----------------------------------------+----------+------------+--------+--------+------------------------------------------------+--------------------------------------------------------------------------------------------------------------------------------------------------------+-------------+--------------+\n",
            "|81145628|Movie  |Norm of the North: King Sized Adventure         |Richard Finn, Tim Maltby  |Alan Marriott, Andrew Toth, Brian Dobson, Cole Howard, Jennifer Cameron, Jonathan Holmes, Lee Tockar, Lisa Durupt, Maya Kay, Michael Dobson                                       |United States, India, South Korea, China|2019-09-09|2019        |TV-PG   |90 min  |Children & Family Movies, Comedies              |Before planning an awesome wedding for his grandfather, a polar bear king must take back a stolen artifact from an evil archaeologist first.            |2024-12-08   |2019          |\n",
            "|80117401|Movie  |Jandino: Whatever it Takes                      |NULL                      |Jandino Asporaat                                                                                                                                                                  |United Kingdom                          |2016-09-09|2016        |TV-MA   |94 min  |Stand-Up Comedy                                 |\"Jandino Asporaat riffs on the challenges of raising kids and serenades the audience with a rousing rendition of \"\"Sex on Fire\"\" in his comedy show.\"   |2024-12-08   |2016          |\n",
            "|70234439|TV Show|Transformers Prime                              |NULL                      |Peter Cullen, Sumalee Montano, Frank Welker, Jeffrey Combs, Kevin Michael Richardson, Tania Gunadi, Josh Keaton, Steve Blum, Andy Pessoa, Ernie Hudson, Daran Norris, Will Friedle|United States                           |2018-09-08|2013        |TV-Y7-FV|1 Season|Kids' TV                                        |With the help of three human allies, the Autobots once again protect Earth from the onslaught of the Decepticons and their leader, Megatron.            |2024-12-08   |2018          |\n",
            "|80058654|TV Show|Transformers: Robots in Disguise                |NULL                      |Will Friedle, Darren Criss, Constance Zimmer, Khary Payton, Mitchell Whitfield, Stuart Allan, Ted McGinley, Peter Cullen                                                          |United States                           |2018-09-08|2016        |TV-Y7   |1 Season|Kids' TV                                        |When a prison ship crash unleashes hundreds of Decepticons on Earth, Bumblebee leads a new Autobot force to protect humankind.                          |2024-12-08   |2018          |\n",
            "|80125979|Movie  |#realityhigh                                    |Fernando Lebrija          |Nesta Cooper, Kate Walsh, John Michael Higgins, Keith Powers, Alicia Sanz, Jake Borelli, Kid Ink, Yousef Erakat, Rebekah Graf, Anne Winters, Peter Gilroy, Patrick Davis          |United States                           |2017-09-08|2017        |TV-14   |99 min  |Comedies                                        |When nerdy high schooler Dani finally attracts the interest of her longtime crush, she lands in the cross hairs of his ex, a social media celebrity.    |2024-12-08   |2017          |\n",
            "|80117902|TV Show|Fire Chasers                                    |NULL                      |NULL                                                                                                                                                                              |United States                           |2017-09-08|2017        |TV-MA   |1 Season|Docuseries, Science & Nature TV                 |As California's 2016 fire season rages, brave backcountry firefighters race to put out the flames, protect homes and save lives in this docuseries.     |2024-12-08   |2017          |\n",
            "|80060297|Movie  |Manhattan Romance                               |Tom O'Brien               |Tom O'Brien, Katherine Waterston, Caitlin Fitzgerald, Gaby Hoffmann, Louis Cancelmi, Zach Grenier                                                                                 |United States                           |2017-09-08|2014        |TV-14   |98 min  |Comedies, Independent Movies, Romantic Movies   |A filmmaker working on a documentary about love in modern Manhattan becomes personally entangled in the romantic lives of his subjects.                 |2024-12-08   |2017          |\n",
            "|70304988|Movie  |Stonehearst Asylum                              |Brad Anderson             |Kate Beckinsale, Jim Sturgess, David Thewlis, Brendan Gleeson, Ben Kingsley, Michael Caine, Jason Flemyng, Sophie Kennedy Clark, Sinéad Cusack, Edmund Kingsley                   |United States                           |2017-09-08|2014        |PG-13   |113 min |Horror Movies, Thrillers                        |In 1899, a young doctor arrives at an asylum for an apprenticeship and becomes suspicious of his mentor's methods while falling for a female patient.   |2024-12-08   |2017          |\n",
            "|80057700|Movie  |The Runner                                      |Austin Stark              |Nicolas Cage, Sarah Paulson, Connie Nielsen, Wendell Pierce, Bryan Batt, Peter Fonda, Dana Gourrier                                                                               |United States                           |2017-09-08|2015        |R       |90 min  |Dramas, Independent Movies                      |A New Orleans politician finds his idealistic plans for rebuilding after a toxic oil spill unraveling thanks to a sex scandal.                          |2024-12-08   |2017          |\n",
            "|80045922|Movie  |6 Years                                         |Hannah Fidell             |Taissa Farmiga, Ben Rosenfield, Lindsay Burdge, Joshua Leonard, Jennifer Lafleur, Peter Vack, Dana Wheeler-Nicholson, Jason Newman, Molly McMichael                               |United States                           |2015-09-08|2015        |NR      |80 min  |Dramas, Independent Movies, Romantic Movies     |As a volatile young couple who have been together for six years approach college graduation, unexpected career opportunities threaten their future.     |2024-12-08   |2015          |\n",
            "|80239639|Movie  |Sierra Burgess Is A Loser                       |Ian Samuels               |Shannon Purser, Kristine Froseth, RJ Cyler, Noah Centineo, Loretta Devine, Giorgia Whigham, Alice Lee, Lea Thompson, Alan Ruck, Mary Pat Gleason, Chrissy Metz                    |United States                           |2018-09-07|2018        |PG-13   |106 min |Comedies, Romantic Movies                       |A wrong-number text sparks a virtual romance between a smart but unpopular teen and a sweet jock who thinks he's talking to a gorgeous cheerleader.     |2024-12-08   |2018          |\n",
            "|80221550|TV Show|Archibald's Next Big Thing                      |NULL                      |Tony Hale, Rosamund Pike, Jordan Fisher, Chelsea Kane, Adam Pally, Kari Wahlgren                                                                                                  |NULL                                    |2019-09-06|2019        |TV-Y7   |1 Season|Kids' TV, TV Comedies                           |Happy-go-lucky chicken Archibald may not remember to do his chores, but he never forgets to have fun. After all, life's an adventure!                   |2024-12-08   |2019          |\n",
            "|81154455|Movie  |Article 15                                      |Anubhav Sinha             |Ayushmann Khurrana, Nassar, Manoj Pahwa, Kumud Mishra, Isha Talwar, Sayani Gupta, Mohammed Zeeshan Ayyub, Subhrajyoti Barat, Sushil Pandey, Aakash Dabhade                        |India                                   |2019-09-06|2019        |TV-MA   |125 min |Dramas, International Movies, Thrillers         |The grim realities of caste discrimination come to light as an entitled but upright city cop ventures into India’s heartland to investigate a murder.   |2024-12-08   |2019          |\n",
            "|81113928|Movie  |Care of Kancharapalem                           |Maha Venkatesh            |Subba Rao Vepada, Radha Bessy, Kesava Karri, Nithyasri Goru, Karthik Rathnam, Praneetha Patnaik, Mohan Bhagath, Praveena Paruchuri                                                |NULL                                    |2019-09-06|2018        |TV-14   |142 min |Comedies, Dramas, Independent Movies            |From a schoolboy’s crush to a middle-aged bachelor’s office romance, four love stories spanning age, religion and status unfold in a small Indian town. |2024-12-08   |2019          |\n",
            "|81052275|Movie  |Ee Nagaraniki Emaindi                           |Tharun Bhascker           |Vishwaksen Naidu, Sushanth Reddy, Abhinav Gomatam, Venkatesh Kakumanu, Anisha Ambrose, Simran Choudhary                                                                           |India                                   |2019-09-06|2018        |TV-14   |133 min |Comedies, International Movies                  |In Goa and in desperate need of cash, four childhood friends get another shot at making their long-abandoned dreams of becoming filmmakers come true.   |2024-12-08   |2019          |\n",
            "|81132437|Movie  |Kill Me If You Dare                             |Şenol Sönmez              |Murat Boz, Seda Bakan, Açelya Topaloğlu, Özgür Emre Yıldırım, Seda Güven, Yosi Mizrahi, Dilşad Şimşek, Ali Yoğurtçuoğlu                                                           |NULL                                    |2019-09-06|2019        |TV-14   |100 min |Comedies, International Movies, Romantic Movies |Bogged down with money problems, a couple grows cautious of each other but hit the lottery and decide to stay together – till death do they part.       |2024-12-08   |2019          |\n",
            "|80178151|TV Show|The Spy                                         |NULL                      |Sacha Baron Cohen, Noah Emmerich, Hadar Ratzon Rotem, Alexander Siddig, Waleed Zuaiter, Nassim Lyes                                                                               |France                                  |2019-09-06|2019        |TV-MA   |1 Season|International TV Shows, TV Dramas, TV Thrillers |In the 1960s, Israeli clerk-turned-secret agent Eli Cohen goes deep undercover inside Syria on a perilous, years-long mission to spy for Mossad.        |2024-12-08   |2019          |\n",
            "|80058026|Movie  |Hell and Back                                   |Tom Gianas, Ross R. Shuman|Nick Swardson, Mila Kunis, Bob Odenkirk, T.J. Miller, Rob Riggle, Susan Sarandon, Danny McBride, Jennifer Coolidge, John Farley, Maria Bamford                                    |United States                           |2018-09-06|2015        |R       |86 min  |Action & Adventure, Comedies, Independent Movies|When best friends break a blood oath, one of them is cast away to hell, and the other two must save him from the misfits of the underworld.             |2024-12-08   |2018          |\n",
            "|80095641|Movie  |Elstree 1976                                    |Jon Spira                 |Paul Blake, Jeremy Bulloch, John Chapman, Anthony Forrest, Laurie Goode, Garrick Hagon, Derek Lyons, Angus MacInnes, David Prowse, Pam Rose                                       |United Kingdom                          |2016-09-06|2015        |TV-PG   |102 min |Documentaries                                   |\"Then and now footage of bit players who appeared in \"\"Star Wars\"\" tells the story of how the film and its legions of fans changed their lives forever.\"|2024-12-08   |2016          |\n",
            "|81176188|Movie  |American Factory: A Conversation with the Obamas|NULL                      |President Barack Obama, Michelle Obama, Julia Reichert, Steven Bognar                                                                                                             |NULL                                    |2019-09-05|2019        |TV-G    |10 min  |Documentaries                                   |Barack and Michelle Obama talk with directors Steven Bognar and Julia Reichert about the documentary and the importance of storytelling.                |2024-12-08   |2019          |\n",
            "+--------+-------+------------------------------------------------+--------------------------+----------------------------------------------------------------------------------------------------------------------------------------------------------------------------------+----------------------------------------+----------+------------+--------+--------+------------------------------------------------+--------------------------------------------------------------------------------------------------------------------------------------------------------+-------------+--------------+\n",
            "only showing top 20 rows\n",
            "\n"
          ]
        }
      ]
    },
    {
      "cell_type": "code",
      "source": [
        "# Converter para Pandas\n",
        "df_pandas = df_generos.toPandas()\n",
        "\n",
        "# Criar visualização com Matplotlib ou Seaborn\n",
        "import matplotlib.pyplot as plt\n",
        "\n",
        "plt.figure(figsize=(10, 6))\n",
        "df_pandas.head(10).plot(kind=\"bar\", x=\"listed_in\", y=\"count\", legend=False, color=\"teal\")\n",
        "plt.title(\"Top 10 Gêneros com Mais Títulos\", fontsize=16)\n",
        "plt.xlabel(\"Gênero\")\n",
        "plt.ylabel(\"Quantidade de Títulos\")\n",
        "plt.xticks(rotation=45)\n",
        "plt.show()\n"
      ],
      "metadata": {
        "id": "XZXaQLptRsUQ"
      },
      "execution_count": null,
      "outputs": []
    }
  ]
}