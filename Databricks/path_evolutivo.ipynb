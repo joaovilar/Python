{
 "cells": [
  {
   "cell_type": "code",
   "execution_count": 0,
   "metadata": {
    "application/vnd.databricks.v1+cell": {
     "cellMetadata": {
      "byteLimit": 2048000,
      "rowLimit": 10000
     },
     "collapsed": true,
     "inputWidgets": {},
     "nuid": "86fc5306-8957-4c23-9b6c-07d07abb4963",
     "showTitle": false,
     "title": ""
    },
    "jupyter": {
     "outputs_hidden": true,
     "source_hidden": true
    }
   },
   "outputs": [],
   "source": [
    "from pyspark.sql.functions import when,current_date\n",
    "from delta import *\n"
   ]
  },
  {
   "cell_type": "code",
   "execution_count": 0,
   "metadata": {
    "application/vnd.databricks.v1+cell": {
     "cellMetadata": {
      "byteLimit": 2048000,
      "rowLimit": 10000
     },
     "inputWidgets": {},
     "nuid": "9ba52a10-454e-4513-9bc6-059a0ddf3eff",
     "showTitle": false,
     "title": ""
    },
    "jupyter": {
     "outputs_hidden": true
    }
   },
   "outputs": [],
   "source": [
    "# Caminho para o diretório Delta Lake onde os dados serão armazenados\n",
    "delta_path = \"/path/evolutivo\""
   ]
  },
  {
   "cell_type": "code",
   "execution_count": 0,
   "metadata": {
    "application/vnd.databricks.v1+cell": {
     "cellMetadata": {
      "byteLimit": 2048000,
      "rowLimit": 10000
     },
     "inputWidgets": {},
     "nuid": "74f63d43-f2ae-4e63-8f9d-8582e953598a",
     "showTitle": false,
     "title": ""
    },
    "jupyter": {
     "outputs_hidden": true,
     "source_hidden": true
    }
   },
   "outputs": [],
   "source": [
    "# Criar um DataFrame de exemplo com informações de produtos\n",
    "data = [\n",
    "    (1, \"Produto A\", 100.0, \"2022-01-01\"),\n",
    "    (2, \"Produto B\", 150.0, \"2022-01-15\"),\n",
    "    (3, \"Produto A\", 110.0, \"2022-02-01\"),\n",
    "    (4, \"Produto C\", 80.0, \"2022-02-15\"),\n",
    "    (5, \"Produto B\", 160.0, \"2022-03-01\"),\n",
    "]\n",
    "\n",
    "schema = [\"ID\", \"NomeProduto\", \"Preco\", \"DataVenda\"]\n",
    "df = spark.createDataFrame(data, schema)\n"
   ]
  },
  {
   "cell_type": "code",
   "execution_count": 0,
   "metadata": {
    "application/vnd.databricks.v1+cell": {
     "cellMetadata": {
      "byteLimit": 2048000,
      "rowLimit": 10000
     },
     "inputWidgets": {},
     "nuid": "6abcb86c-1984-4a16-8e1e-1bd933ac00e8",
     "showTitle": false,
     "title": ""
    }
   },
   "outputs": [
    {
     "output_type": "stream",
     "name": "stdout",
     "output_type": "stream",
     "text": [
      "DataFrame Inicial:\n+---+-----------+-----+----------+\n| ID|NomeProduto|Preco| DataVenda|\n+---+-----------+-----+----------+\n|  1|  Produto A|100.0|2022-01-01|\n|  2|  Produto B|150.0|2022-01-15|\n|  3|  Produto A|110.0|2022-02-01|\n|  4|  Produto C| 80.0|2022-02-15|\n|  5|  Produto B|160.0|2022-03-01|\n+---+-----------+-----+----------+\n\n"
     ]
    }
   ],
   "source": [
    "# Exibir o DataFrame inicial\n",
    "print(\"DataFrame Inicial:\")\n",
    "df.show()"
   ]
  },
  {
   "cell_type": "code",
   "execution_count": 0,
   "metadata": {
    "application/vnd.databricks.v1+cell": {
     "cellMetadata": {
      "byteLimit": 2048000,
      "rowLimit": 10000
     },
     "inputWidgets": {},
     "nuid": "6608bd84-5af9-4073-897d-fcfa1906f886",
     "showTitle": false,
     "title": ""
    }
   },
   "outputs": [],
   "source": [
    "# Salvando o DataFrame no formato Delta Lake\n",
    "df.write.format(\"delta\").mode(\"overwrite\").save(delta_path)"
   ]
  },
  {
   "cell_type": "code",
   "execution_count": 0,
   "metadata": {
    "application/vnd.databricks.v1+cell": {
     "cellMetadata": {
      "byteLimit": 2048000,
      "rowLimit": 10000
     },
     "inputWidgets": {},
     "nuid": "702e5349-9a75-4d8a-b7f5-de9ae20b2183",
     "showTitle": false,
     "title": ""
    }
   },
   "outputs": [
    {
     "output_type": "stream",
     "name": "stdout",
     "output_type": "stream",
     "text": [
      "\nDataFrame com Nova Coluna 'CategoriaProduto':\n+---+-----------+-----+----------+----------------+\n| ID|NomeProduto|Preco| DataVenda|CategoriaProduto|\n+---+-----------+-----+----------+----------------+\n|  1|  Produto A|100.0|2022-01-01|     Categoria A|\n|  2|  Produto B|150.0|2022-01-15|     Categoria B|\n|  3|  Produto A|110.0|2022-02-01|     Categoria A|\n|  4|  Produto C| 80.0|2022-02-15|     Categoria C|\n|  5|  Produto B|160.0|2022-03-01|     Categoria B|\n+---+-----------+-----+----------+----------------+\n\n"
     ]
    }
   ],
   "source": [
    "# Criar coluna \"CategoriaProduto\" com base no nome do produto\n",
    "df_novo = df.withColumn(\"CategoriaProduto\", when(df[\"NomeProduto\"] == \"Produto A\", \"Categoria A\")\n",
    "                                   .when(df[\"NomeProduto\"] == \"Produto B\", \"Categoria B\")\n",
    "                                   .when(df[\"NomeProduto\"] == \"Produto C\", \"Categoria C\")\n",
    "                                   .otherwise(\"Outra Categoria\"))\n",
    "\n",
    "# Exibir o DataFrame após a inclusão da nova coluna \"CategoriaProduto\"\n",
    "print(\"\\nDataFrame com Nova Coluna 'CategoriaProduto':\")\n",
    "df_novo.show()"
   ]
  },
  {
   "cell_type": "code",
   "execution_count": 0,
   "metadata": {
    "application/vnd.databricks.v1+cell": {
     "cellMetadata": {
      "byteLimit": 2048000,
      "rowLimit": 10000
     },
     "inputWidgets": {},
     "nuid": "2feaf572-8da8-4090-9631-4934934f3366",
     "showTitle": false,
     "title": ""
    }
   },
   "outputs": [],
   "source": [
    "# Incluir uma nova coluna \"DataCorrente\" com a data atual\n",
    "df_novo = df_novo.withColumn(\"DataCorrente\", current_date())"
   ]
  },
  {
   "cell_type": "code",
   "execution_count": 0,
   "metadata": {
    "application/vnd.databricks.v1+cell": {
     "cellMetadata": {
      "byteLimit": 2048000,
      "rowLimit": 10000
     },
     "inputWidgets": {},
     "nuid": "4d6aa5de-df90-437e-9eee-12c19e1307d8",
     "showTitle": false,
     "title": ""
    }
   },
   "outputs": [],
   "source": [
    "# Salvando o DataFrame com o novo esquema no mesmo diretório Delta Lake\n",
    "df_novo.write.format(\"delta\").mode(\"overwrite\").option(\"mergeSchema\", \"true\").save(delta_path)"
   ]
  },
  {
   "cell_type": "code",
   "execution_count": 0,
   "metadata": {
    "application/vnd.databricks.v1+cell": {
     "cellMetadata": {
      "byteLimit": 2048000,
      "rowLimit": 10000
     },
     "inputWidgets": {},
     "nuid": "dc7fa57c-d271-4080-bd0a-7a397be00b98",
     "showTitle": false,
     "title": ""
    }
   },
   "outputs": [],
   "source": [
    "# Leitura do Delta Lake (Path Evolutivo)\n",
    "delta_table = DeltaTable.forPath(spark, delta_path)"
   ]
  },
  {
   "cell_type": "code",
   "execution_count": 0,
   "metadata": {
    "application/vnd.databricks.v1+cell": {
     "cellMetadata": {
      "byteLimit": 2048000,
      "rowLimit": 10000
     },
     "inputWidgets": {},
     "nuid": "2bd064e0-31d8-4391-9fbe-deb9009450eb",
     "showTitle": false,
     "title": ""
    }
   },
   "outputs": [
    {
     "output_type": "stream",
     "name": "stdout",
     "output_type": "stream",
     "text": [
      "+---+-----------+-----+----------+----------------+------------+\n| ID|NomeProduto|Preco| DataVenda|CategoriaProduto|DataCorrente|\n+---+-----------+-----+----------+----------------+------------+\n|  1|  Produto A|100.0|2022-01-01|     Categoria A|  2023-10-23|\n|  2|  Produto B|150.0|2022-01-15|     Categoria B|  2023-10-23|\n|  3|  Produto A|110.0|2022-02-01|     Categoria A|  2023-10-23|\n|  4|  Produto C| 80.0|2022-02-15|     Categoria C|  2023-10-23|\n|  5|  Produto B|160.0|2022-03-01|     Categoria B|  2023-10-23|\n+---+-----------+-----+----------+----------------+------------+\n\n"
     ]
    }
   ],
   "source": [
    "# Lendo o DataFrame com o esquema evolutivo\n",
    "df_atual = spark.read.format(\"delta\").load(delta_path)\n",
    "# Exibindo o DataFrame resultante\n",
    "df_atual.show()"
   ]
  },
  {
   "cell_type": "code",
   "execution_count": 0,
   "metadata": {
    "application/vnd.databricks.v1+cell": {
     "cellMetadata": {
      "byteLimit": 2048000,
      "rowLimit": 10000
     },
     "inputWidgets": {},
     "nuid": "34648e79-0412-40ef-bca0-ed9632e742ef",
     "showTitle": false,
     "title": ""
    }
   },
   "outputs": [
    {
     "output_type": "stream",
     "name": "stdout",
     "output_type": "stream",
     "text": [
      "+---+-----------+-----+----------+\n| ID|NomeProduto|Preco| DataVenda|\n+---+-----------+-----+----------+\n|  1|  Produto A|100.0|2022-01-01|\n|  2|  Produto B|150.0|2022-01-15|\n|  3|  Produto A|110.0|2022-02-01|\n|  4|  Produto C| 80.0|2022-02-15|\n|  5|  Produto B|160.0|2022-03-01|\n+---+-----------+-----+----------+\n\n"
     ]
    }
   ],
   "source": [
    "# Carregando o DataFrame de uma versão anterior do Delta Lake\n",
    "df_versao_0 = spark.read.format(\"delta\").option(\"versionAsOf\", 0).load(delta_path)\n",
    "# Exibindo o DataFrame da versão 0\n",
    "df_versao_0.show()"
   ]
  },
  {
   "cell_type": "code",
   "execution_count": 0,
   "metadata": {
    "application/vnd.databricks.v1+cell": {
     "cellMetadata": {
      "byteLimit": 2048000,
      "rowLimit": 10000
     },
     "inputWidgets": {},
     "nuid": "5747c6d6-1583-4c9e-8355-1f6482ba9b71",
     "showTitle": false,
     "title": ""
    }
   },
   "outputs": [
    {
     "output_type": "stream",
     "name": "stdout",
     "output_type": "stream",
     "text": [
      "Out[160]: True"
     ]
    }
   ],
   "source": [
    "dbutils.fs.rm(\"/path/evolutivo\", recurse=True)"
   ]
  },
  {
   "cell_type": "code",
   "execution_count": 0,
   "metadata": {
    "application/vnd.databricks.v1+cell": {
     "cellMetadata": {},
     "inputWidgets": {},
     "nuid": "c58f6bf1-2fda-4fb1-830d-5adac70fbb10",
     "showTitle": false,
     "title": ""
    }
   },
   "outputs": [],
   "source": []
  }
 ],
 "metadata": {
  "application/vnd.databricks.v1+notebook": {
   "dashboards": [],
   "language": "python",
   "notebookMetadata": {
    "mostRecentlyExecutedCommandWithImplicitDF": {
     "commandId": 2518930536486284,
     "dataframes": [
      "_sqldf"
     ]
    },
    "pythonIndentUnit": 4
   },
   "notebookName": "Practice",
   "widgets": {}
  }
 },
 "nbformat": 4,
 "nbformat_minor": 0
}
